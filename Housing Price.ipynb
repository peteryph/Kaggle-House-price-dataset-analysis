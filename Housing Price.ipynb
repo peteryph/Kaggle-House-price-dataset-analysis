{
 "cells": [
  {
   "cell_type": "code",
   "execution_count": 1,
   "metadata": {},
   "outputs": [],
   "source": [
    "import math\n",
    "import pandas\n",
    "import plotly\n",
    "import numpy as np\n",
    "import matplotlib.pyplot as plt\n",
    "\n",
    "\n",
    "# sklearn basic\n",
    "from sklearn.utils import shuffle\n",
    "from sklearn.decomposition import PCA\n",
    "from sklearn.preprocessing import MinMaxScaler\n",
    "from sklearn.model_selection import train_test_split\n",
    "\n",
    "# sklearn model\n",
    "from sklearn import tree\n",
    "from sklearn.svm import SVR\n",
    "from sklearn.linear_model import Ridge\n",
    "from sklearn.linear_model import ElasticNet\n",
    "from sklearn.linear_model import LogisticRegression\n",
    "from sklearn.neural_network import MLPRegressor\n",
    "from sklearn.linear_model import LinearRegression\n",
    "from sklearn.linear_model import BayesianRidge\n",
    "from sklearn.neighbors import NearestNeighbors\n",
    "from sklearn.neighbors import KNeighborsRegressor\n",
    "from sklearn.neighbors import RadiusNeighborsRegressor\n",
    "\n",
    "\n",
    "\n",
    "\n",
    "# ensemble learning\n",
    "from mlxtend.regressor import StackingRegressor\n",
    "from sklearn.ensemble import VotingRegressor\n",
    "from sklearn.ensemble import BaggingRegressor\n",
    "from sklearn.ensemble import AdaBoostRegressor\n",
    "from sklearn.ensemble import RandomForestRegressor\n",
    "from sklearn.ensemble import GradientBoostingRegressor\n",
    "\n",
    "\n",
    "\n",
    "\n",
    "pandas.set_option('display.max_columns', None)"
   ]
  },
  {
   "cell_type": "markdown",
   "metadata": {},
   "source": [
    "**Read CSV**"
   ]
  },
  {
   "cell_type": "code",
   "execution_count": 2,
   "metadata": {
    "scrolled": true
   },
   "outputs": [],
   "source": [
    "df = pandas.read_csv(\"train.csv\", header = 0)\n",
    "df = df.drop(columns = [\"Street\", \"Utilities\", \"PoolQC\", \"GarageYrBlt\"])\n",
    "# df = df.drop(columns = [\"Street\", \"Utilities\", \"PoolQC\", \"GarageYrBlt\", \"MoSold\", \"YrSold\", \"YearBuilt\", \"YearRemodAdd\"])"
   ]
  },
  {
   "cell_type": "markdown",
   "metadata": {},
   "source": [
    "**Convert to one-hot**\n",
    "- MSSubClass, MSZoning, Street, LotConfig, LandSlope, Neighborhood, Condition1, Condition2, BldgType, HouseStyle, RoofStyle, RoofMatl, Exterior1st, Exterior2nd, MasVnrType, Foundation, Heating, Electrical, Functional, GarageType, PavedDrive, Fence, MiscFeature, SaleType, SaleConditionc, Alley"
   ]
  },
  {
   "cell_type": "code",
   "execution_count": 3,
   "metadata": {},
   "outputs": [],
   "source": [
    "cate_list =[\"Alley\",\"MSSubClass\", \"MSZoning\", \"LotConfig\", \"LandSlope\", \"Neighborhood\", \"Condition1\", \"Condition2\", \"BldgType\", \"HouseStyle\", \"RoofStyle\", \"RoofMatl\", \"Exterior1st\", \"Exterior2nd\", \"MasVnrType\", \"Foundation\", \"Heating\", \"Electrical\", \"Functional\", \"GarageType\", \"PavedDrive\", \"Fence\", \"MiscFeature\", \"SaleType\", \"SaleCondition\"]"
   ]
  },
  {
   "cell_type": "code",
   "execution_count": 4,
   "metadata": {},
   "outputs": [],
   "source": [
    "for c in cate_list:\n",
    "    lis = []\n",
    "    for i in df[c].unique():\n",
    "        if(not isinstance(i, float)):\n",
    "#             if(not math.isnan(i)):\n",
    "            lis.append((i))\n",
    "        \n",
    "    Type = pandas.DataFrame(columns = sorted(lis, reverse = False)) # create the new dataframe base the all the type key found\n",
    "    key = list(Type.keys()) # loop over all the types\n",
    "    count = 0\n",
    "\n",
    "    for i in df[c].tolist():\n",
    "        value_list = np.zeros(len(key)).reshape(1,len(key)) # default all 0\n",
    "        value_list = pandas.DataFrame(value_list, columns = key)\n",
    "        Type = Type.append(value_list) # append the new row into dataframe\n",
    "        Type.iloc[count][(i)] = 1 # the select type feature will be 1\n",
    "        count += 1 # index the current row\n",
    "        \n",
    "    for i in Type.keys():\n",
    "        df[str(c)+str(i)] = Type[i].tolist()\n",
    "df = df.drop(columns = cate_list)"
   ]
  },
  {
   "cell_type": "markdown",
   "metadata": {},
   "source": [
    "**Convert to Boolean**"
   ]
  },
  {
   "cell_type": "code",
   "execution_count": 5,
   "metadata": {
    "scrolled": true
   },
   "outputs": [],
   "source": [
    "CA_list = df[\"CentralAir\"].tolist()\n",
    "CA_Convert_list = []\n",
    "for i in CA_list:\n",
    "    if(i == \"N\"):\n",
    "        CA_Convert_list.append(0)\n",
    "    else:\n",
    "        CA_Convert_list.append(1)\n",
    "df[\"CentralAir_New\"] = CA_Convert_list\n",
    "df = df.drop(columns = [\"CentralAir\"])"
   ]
  },
  {
   "cell_type": "markdown",
   "metadata": {},
   "source": [
    "**Convert to Rank**\n",
    "\n",
    "- LotShape, LandContour, ExterQual, ExterCond, BsmtQual, BsmtCond, BsmtExposure, BsmtFinType1, BsmtFinType2, HeatingQC, KitchenQual, FireplaceQu, GarageFinish, GarageQual, GarageCond, PoolQC\n",
    "\n",
    "- OverallQual, OverallCond"
   ]
  },
  {
   "cell_type": "code",
   "execution_count": 6,
   "metadata": {
    "scrolled": true
   },
   "outputs": [],
   "source": [
    "LotShape_Convert_list = []\n",
    "for i in df[\"LotShape\"].tolist():\n",
    "    if(i == \"Reg\"):\n",
    "        LotShape_Convert_list.append(3)\n",
    "    elif(i == \"IR1\"):\n",
    "        LotShape_Convert_list.append(2)\n",
    "    elif(i == \"IR2\"):\n",
    "        LotShape_Convert_list.append(1)\n",
    "    elif(i == \"IR3\"):\n",
    "        LotShape_Convert_list.append(0)\n",
    "df[\"LotShape_New\"] = LotShape_Convert_list\n",
    "df = df.drop(columns = [\"LotShape\"])"
   ]
  },
  {
   "cell_type": "code",
   "execution_count": 7,
   "metadata": {},
   "outputs": [],
   "source": [
    "LandContour_Convert_list = []\n",
    "for i in df[\"LandContour\"].tolist():\n",
    "    if(i == \"Lvl\"):\n",
    "        LandContour_Convert_list.append(3)\n",
    "    elif(i == \"Bnk\"):\n",
    "        LandContour_Convert_list.append(2)\n",
    "    elif(i == \"HLS\"):\n",
    "        LandContour_Convert_list.append(1)\n",
    "    elif(i == \"Low\"):\n",
    "        LandContour_Convert_list.append(0)\n",
    "df[\"LandContour_New\"] = LandContour_Convert_list\n",
    "df = df.drop(columns = [\"LandContour\"])"
   ]
  },
  {
   "cell_type": "code",
   "execution_count": 8,
   "metadata": {
    "scrolled": true
   },
   "outputs": [],
   "source": [
    "for k in [\"ExterCond\", \"ExterQual\", \"HeatingQC\", \"KitchenQual\"]:\n",
    "    ExterQual_Convert_list = []\n",
    "    for i in df[k].tolist():\n",
    "        if(i == \"Ex\"):\n",
    "            ExterQual_Convert_list.append(4)\n",
    "        elif(i == \"Gd\"):\n",
    "            ExterQual_Convert_list.append(3)\n",
    "        elif(i == \"TA\"):\n",
    "            ExterQual_Convert_list.append(2)\n",
    "        elif(i == \"Fa\"):\n",
    "            ExterQual_Convert_list.append(1)\n",
    "        elif(i == \"Po\"):\n",
    "            ExterQual_Convert_list.append(0)\n",
    "    df[str(k)+\"_New\"] = ExterQual_Convert_list\n",
    "    df = df.drop(columns = [k])"
   ]
  },
  {
   "cell_type": "code",
   "execution_count": 9,
   "metadata": {},
   "outputs": [],
   "source": [
    "for k in [\"BsmtExposure\"]:\n",
    "    ExterQual_Convert_list = []\n",
    "    for i in df[k].tolist():\n",
    "        if(not isinstance(i, float)):\n",
    "            if(i == \"Gd\"):\n",
    "                ExterQual_Convert_list.append(4)\n",
    "            elif(i == \"Av\"):\n",
    "                ExterQual_Convert_list.append(3)\n",
    "            elif(i == \"Mn\"):\n",
    "                ExterQual_Convert_list.append(2)\n",
    "            elif(i == \"No\"):\n",
    "                ExterQual_Convert_list.append(1)\n",
    "        else:\n",
    "            ExterQual_Convert_list.append(0)\n",
    "\n",
    "\n",
    "    df[str(k)+\"_New\"] = ExterQual_Convert_list\n",
    "    df = df.drop(columns = [k])"
   ]
  },
  {
   "cell_type": "code",
   "execution_count": 10,
   "metadata": {},
   "outputs": [],
   "source": [
    "for k in [\"BsmtCond\", \"BsmtQual\", \"FireplaceQu\", \"GarageQual\", \"GarageCond\"]:\n",
    "    BsmtQual_Convert_list = []\n",
    "    for i in df[k].tolist():\n",
    "        if(not isinstance(i, float)):\n",
    "            if(i == \"Ex\"):\n",
    "                BsmtQual_Convert_list.append(5)\n",
    "            elif(i == \"Gd\"):\n",
    "                BsmtQual_Convert_list.append(4)\n",
    "            elif(i == \"TA\"):\n",
    "                BsmtQual_Convert_list.append(3)\n",
    "            elif(i == \"Fa\"):\n",
    "                BsmtQual_Convert_list.append(2)\n",
    "            elif(i == \"Po\"):\n",
    "                BsmtQual_Convert_list.append(1)\n",
    "            elif(i == \"NA\"):\n",
    "                BsmtQual_Convert_list.append(0)\n",
    "        else:\n",
    "            BsmtQual_Convert_list.append(0)\n",
    "\n",
    "\n",
    "    df[str(k)+\"_New\"] = BsmtQual_Convert_list\n",
    "    df = df.drop(columns = [k])"
   ]
  },
  {
   "cell_type": "code",
   "execution_count": 11,
   "metadata": {
    "scrolled": true
   },
   "outputs": [],
   "source": [
    "for k in [\"BsmtFinType1\", \"BsmtFinType2\"]:\n",
    "    BsmtQual_Convert_list = []\n",
    "    for i in df[k].tolist():\n",
    "        if(not isinstance(i, float)):\n",
    "            if(i == \"GLQ\"):\n",
    "                BsmtQual_Convert_list.append(6)\n",
    "            elif(i == \"ALQ\"):\n",
    "                BsmtQual_Convert_list.append(5)\n",
    "            elif(i == \"Rec\"):\n",
    "                BsmtQual_Convert_list.append(4)\n",
    "            elif(i == \"BLQ\"):\n",
    "                BsmtQual_Convert_list.append(3)\n",
    "            elif(i == \"LwQ\"):\n",
    "                BsmtQual_Convert_list.append(2)\n",
    "            elif(i == \"Unf\"):\n",
    "                BsmtQual_Convert_list.append(1)\n",
    "            elif(i == \"NA\"):\n",
    "                BsmtQual_Convert_list.append(0)\n",
    "        else:\n",
    "            BsmtQual_Convert_list.append(0)\n",
    "\n",
    "\n",
    "    df[str(k)+\"_New\"] = BsmtQual_Convert_list\n",
    "    df = df.drop(columns = [k])\n"
   ]
  },
  {
   "cell_type": "code",
   "execution_count": 12,
   "metadata": {},
   "outputs": [],
   "source": [
    "for k in [\"GarageFinish\"]:\n",
    "    BsmtQual_Convert_list = []\n",
    "    for i in df[k].tolist():\n",
    "        if(not isinstance(i, float)):\n",
    "            if(i == \"Fin\"):\n",
    "                BsmtQual_Convert_list.append(3)\n",
    "            elif(i == \"RFn\"):\n",
    "                BsmtQual_Convert_list.append(2)\n",
    "            elif(i == \"Unf\"):\n",
    "                BsmtQual_Convert_list.append(1)\n",
    "            elif(i == \"NA\"):\n",
    "                BsmtQual_Convert_list.append(0)\n",
    "        else:\n",
    "            BsmtQual_Convert_list.append(0)\n",
    "df[str(k)+\"_New\"] = BsmtQual_Convert_list\n",
    "df = df.drop(columns = [k])"
   ]
  },
  {
   "cell_type": "code",
   "execution_count": 13,
   "metadata": {},
   "outputs": [],
   "source": [
    "# replace nan to 0\n",
    "df[\"LotFrontage\"] = df[\"LotFrontage\"].fillna(0).tolist()\n",
    "df[\"MasVnrArea\"] = df[\"MasVnrArea\"].fillna(0).tolist()\n",
    "df = df.drop(columns = [\"Id\"])\n"
   ]
  },
  {
   "cell_type": "code",
   "execution_count": 14,
   "metadata": {
    "scrolled": true
   },
   "outputs": [],
   "source": [
    "scale_df = df.drop(columns = [\"SalePrice\"])\n",
    "keys = list(scale_df.keys())\n",
    "\n",
    "scaler = MinMaxScaler()\n",
    "MinMaxScaler(copy=True, feature_range=(0, 1))\n",
    "scaler.fit(scale_df)\n",
    "scale_df = scaler.transform(scale_df)\n",
    "scale_df = pandas.DataFrame(scale_df, columns = keys)\n",
    "scale_df[\"SalePrice\"] = df[\"SalePrice\"].tolist()\n"
   ]
  },
  {
   "cell_type": "code",
   "execution_count": 15,
   "metadata": {
    "scrolled": true
   },
   "outputs": [],
   "source": [
    "df = scale_df"
   ]
  },
  {
   "cell_type": "markdown",
   "metadata": {},
   "source": [
    "**PCA**"
   ]
  },
  {
   "cell_type": "code",
   "execution_count": null,
   "metadata": {
    "scrolled": true
   },
   "outputs": [],
   "source": [
    "candidate_components = range(10, 240, 30)\n",
    "explained_ratios = []\n",
    "for c in candidate_components:\n",
    "    pca = PCA(n_components=c)\n",
    "    X_pca = pca.fit_transform(df.drop(columns = [\"SalePrice\"]))\n",
    "    explained_ratios.append(np.sum(pca.explained_variance_ratio_))\n",
    "\n",
    "plt.figure(figsize=(10, 6), dpi=144)\n",
    "plt.grid()\n",
    "plt.plot(candidate_components, explained_ratios)\n",
    "plt.xlabel('Number of PCA Components')\n",
    "plt.ylabel('Explained Variance Ratio')\n",
    "plt.title('Explained variance ratio for PCA')\n",
    "plt.yticks(np.arange(0.5, 1.05, .05))\n",
    "plt.xticks(np.arange(0, 300, 20))"
   ]
  },
  {
   "cell_type": "code",
   "execution_count": null,
   "metadata": {},
   "outputs": [],
   "source": [
    "Y = df[\"SalePrice\"].tolist()\n",
    "X = df.drop(columns = [\"SalePrice\"]).values.tolist()\n",
    "pca = sklearn.decomposition.PCA(n_components=100)\n",
    "pca.fit(X)\n",
    "X = pca.transform(X)\n"
   ]
  },
  {
   "cell_type": "code",
   "execution_count": null,
   "metadata": {},
   "outputs": [],
   "source": [
    "X.shape"
   ]
  },
  {
   "cell_type": "markdown",
   "metadata": {},
   "source": [
    "**Dataset**"
   ]
  },
  {
   "cell_type": "code",
   "execution_count": 16,
   "metadata": {},
   "outputs": [],
   "source": [
    "# sklearn split\n",
    "Train_X, Test_X, Train_Y, Test_Y = train_test_split(\n",
    "    df.drop(columns = \"SalePrice\").values.tolist(), \n",
    "    df[\"SalePrice\"].tolist(),\n",
    "    test_size=0.07, \n",
    "    random_state=42)\n",
    "\n",
    "# stacking dataset or vaild for boosting\n",
    "Train_Stacking_X = Train_X[:150]\n",
    "Train_Stacking_Y = Train_Y[:150]\n",
    "\n",
    "Train_X = Train_X[150:]\n",
    "Train_Y = Train_Y[150:]"
   ]
  },
  {
   "cell_type": "code",
   "execution_count": null,
   "metadata": {},
   "outputs": [],
   "source": [
    "# pandas shuffle\n",
    "dataset = shuffle(df)\n",
    "Test = dataset[:100]\n",
    "Train = dataset[100:]\n",
    "\n",
    "Train_Stacking = Train[:300]\n",
    "Train = Train[300:]\n",
    "\n",
    "Test_X = Test.drop(columns = \"SalePrice\").values.tolist()\n",
    "Test_Y = Test[\"SalePrice\"].tolist()\n",
    "\n",
    "Train_X = Train.drop(columns = \"SalePrice\").values.tolist()\n",
    "Train_Y = Train[\"SalePrice\"].tolist()\n",
    "\n",
    "Train_Stacking_X = Train_Stacking.drop(columns = \"SalePrice\").values.tolist()\n",
    "Train_Stacking_Y = Train_Stacking[\"SalePrice\"].tolist()"
   ]
  },
  {
   "cell_type": "code",
   "execution_count": null,
   "metadata": {},
   "outputs": [],
   "source": [
    "# After PCA\n",
    "Test = X[:100]\n",
    "Train = X[100:]\n",
    "\n",
    "Test_X = Test\n",
    "Test_Y = Y[:100]\n",
    "\n",
    "Train_X = Train\n",
    "Train_Y = Y[100:]"
   ]
  },
  {
   "cell_type": "markdown",
   "metadata": {},
   "source": [
    "## Machine Learning Model"
   ]
  },
  {
   "cell_type": "code",
   "execution_count": 223,
   "metadata": {},
   "outputs": [],
   "source": [
    "rng = np.random.RandomState(1)"
   ]
  },
  {
   "cell_type": "markdown",
   "metadata": {},
   "source": [
    "**Adam Boost**"
   ]
  },
  {
   "cell_type": "code",
   "execution_count": 17,
   "metadata": {},
   "outputs": [],
   "source": [
    "# Adam boost for the model and return the best selection via given datasets\n",
    "def Ada_Model(model, Train_X, Train_Y, Vail_X, Vail_Y):\n",
    "    highest = 0\n",
    "    coeff = 0\n",
    "    rng = np.random.RandomState(1)\n",
    "    for i in range(1, 20):\n",
    "        AdaBoost_model = AdaBoostRegressor(base_estimator=model, n_estimators=i, random_state=rng)\n",
    "        AdaBoost_model.fit(Train_X, Train_Y)\n",
    "        curr_score = AdaBoost_model.score(Vail_X, Vail_Y)\n",
    "        if(highest < curr_score):\n",
    "            highest = curr_score\n",
    "            coeff = i\n",
    "    return coeff, highest\n"
   ]
  },
  {
   "cell_type": "markdown",
   "metadata": {},
   "source": [
    "**Bagging**"
   ]
  },
  {
   "cell_type": "code",
   "execution_count": 181,
   "metadata": {},
   "outputs": [],
   "source": [
    "def Bagging(model, Train_X, Train_Y, Vail_X, Vail_Y):  \n",
    "    highest = 0\n",
    "    coeff = 0\n",
    "    rng = np.random.RandomState(1)\n",
    "    for i in range(1, 20):\n",
    "        Bagging_Model = BaggingRegressor(base_estimator= model, n_estimators = i, bootstrap=True, warm_start=True) #\n",
    "        Bagging_Model.fit(Train_X, Train_Y)\n",
    "        curr_score = Bagging_Model.score(Vail_X, Vail_Y)\n",
    "        if(highest < curr_score):\n",
    "            highest = curr_score\n",
    "            coeff = i\n",
    "    return coeff, highest\n",
    "\n",
    "# sklearn.ensemble.BaggingRegressor(base_estimator=None, \n",
    "# n_estimators=10, \n",
    "# max_samples=1.0, \n",
    "# max_features=1.0, \n",
    "# bootstrap=True, \n",
    "# bootstrap_features=False, \n",
    "# oob_score=False, \n",
    "# warm_start=False, \n",
    "# n_jobs=None, \n",
    "# random_state=None, verbose=0)"
   ]
  },
  {
   "cell_type": "markdown",
   "metadata": {},
   "source": [
    "**Gradient Boosting**"
   ]
  },
  {
   "cell_type": "code",
   "execution_count": null,
   "metadata": {},
   "outputs": [],
   "source": [
    "def GBDT(model, Train_X, Train_Y, Vail_X, Vail_Y):\n",
    "    coeff = 0\n",
    "    highest = 0\n",
    "    _range = np.arange(0.01, 1, 0.05)\n",
    "    for i in (_range):\n",
    "        GBDT = GradientBoostingRegressor(init = model, learning_rate = i)\n",
    "        GBDT.fit(Train_X, Train_Y)\n",
    "        curr_score = GBDT.score(Train_Stacking_X, Train_Stacking_Y)\n",
    "        if(highest < curr_score):\n",
    "            highest = curr_score\n",
    "            coeff = i\n",
    "    return coeff, highest"
   ]
  },
  {
   "cell_type": "markdown",
   "metadata": {},
   "source": [
    "**Neural Network**"
   ]
  },
  {
   "cell_type": "code",
   "execution_count": 18,
   "metadata": {},
   "outputs": [
    {
     "data": {
      "text/plain": [
       "MLPRegressor(activation='relu', alpha=0.01, batch_size='auto', beta_1=0.9,\n",
       "             beta_2=0.999, early_stopping=True, epsilon=1e-08,\n",
       "             hidden_layer_sizes=(30, 20, 5), learning_rate='constant',\n",
       "             learning_rate_init=0.1, max_iter=1000, momentum=0.9,\n",
       "             n_iter_no_change=10, nesterovs_momentum=True, power_t=0.5,\n",
       "             random_state=1, shuffle=True, solver='adam', tol=0.0001,\n",
       "             validation_fraction=0.1, verbose=False, warm_start=False)"
      ]
     },
     "execution_count": 18,
     "metadata": {},
     "output_type": "execute_result"
    }
   ],
   "source": [
    "NN = MLPRegressor(solver='adam',  # weight optimization\n",
    "                    activation='relu',  # activation function\n",
    "                    alpha=1e-2, # Regularizer value\n",
    "                    learning_rate_init = 0.1,\n",
    "                    hidden_layer_sizes=(30,20,5), # layer and node (node,node) --> numbers of layers\n",
    "\n",
    "                  random_state=1, #random state\n",
    "                    max_iter = 1000, # max iteration\n",
    "                    early_stopping = True) # early stop\n",
    "\n",
    "NN.fit(Train_X, Train_Y) # fit the neural network\n"
   ]
  },
  {
   "cell_type": "code",
   "execution_count": 19,
   "metadata": {},
   "outputs": [
    {
     "data": {
      "text/plain": [
       "0.8765227063911397"
      ]
     },
     "execution_count": 19,
     "metadata": {},
     "output_type": "execute_result"
    }
   ],
   "source": [
    "NN.score(Train_X, Train_Y)"
   ]
  },
  {
   "cell_type": "code",
   "execution_count": 20,
   "metadata": {},
   "outputs": [
    {
     "data": {
      "text/plain": [
       "0.8621464009981835"
      ]
     },
     "execution_count": 20,
     "metadata": {},
     "output_type": "execute_result"
    }
   ],
   "source": [
    "NN.score(Test_X, Test_Y)"
   ]
  },
  {
   "cell_type": "markdown",
   "metadata": {},
   "source": [
    "**Elastic Net + Adam Boost**"
   ]
  },
  {
   "cell_type": "code",
   "execution_count": 165,
   "metadata": {},
   "outputs": [
    {
     "data": {
      "text/plain": [
       "ElasticNet(alpha=1.0, copy_X=True, fit_intercept=True, l1_ratio=0.5,\n",
       "           max_iter=1000, normalize=False, positive=False, precompute=False,\n",
       "           random_state=0, selection='cyclic', tol=0.0001, warm_start=True)"
      ]
     },
     "execution_count": 165,
     "metadata": {},
     "output_type": "execute_result"
    }
   ],
   "source": [
    "Net = ElasticNet(random_state=0, warm_start = True)\n",
    "Net.fit(Train_X, Train_Y)  \n",
    "Net.score(Train_X,Train_Y)"
   ]
  },
  {
   "cell_type": "code",
   "execution_count": 167,
   "metadata": {},
   "outputs": [
    {
     "data": {
      "text/plain": [
       "0.6134309769745292"
      ]
     },
     "execution_count": 167,
     "metadata": {},
     "output_type": "execute_result"
    }
   ],
   "source": [
    "Net.score(Test_X,Test_Y)"
   ]
  },
  {
   "cell_type": "code",
   "execution_count": 174,
   "metadata": {
    "scrolled": false
   },
   "outputs": [
    {
     "data": {
      "text/plain": [
       "(14, 0.5606226499645343)"
      ]
     },
     "execution_count": 174,
     "metadata": {},
     "output_type": "execute_result"
    }
   ],
   "source": [
    "coeff, highest = Bagging(Net, Train_X, Train_Y, Train_Stacking_X, Train_Stacking_Y)\n",
    "coeff, highest"
   ]
  },
  {
   "cell_type": "code",
   "execution_count": 175,
   "metadata": {
    "scrolled": true
   },
   "outputs": [
    {
     "data": {
      "text/plain": [
       "0.6134309769745292"
      ]
     },
     "execution_count": 175,
     "metadata": {},
     "output_type": "execute_result"
    }
   ],
   "source": [
    "Bagging_Net = BaggingRegressor(base_estimator =  Net, n_estimators = coeff, bootstrap=False, warm_start=True)\n",
    "Bagging_Net.fit(Train_X, Train_Y)\n",
    "Bagging_Net.score(Test_X, Test_Y)"
   ]
  },
  {
   "cell_type": "code",
   "execution_count": 176,
   "metadata": {},
   "outputs": [
    {
     "data": {
      "text/plain": [
       "(14, 0.6430038853799636)"
      ]
     },
     "execution_count": 176,
     "metadata": {},
     "output_type": "execute_result"
    }
   ],
   "source": [
    "# Boosting Net\n",
    "coeff, highest = Ada_Model(Bagging_Net, Train_X, Train_Y, Train_Stacking_X, Train_Stacking_Y)\n",
    "coeff, highest"
   ]
  },
  {
   "cell_type": "code",
   "execution_count": 177,
   "metadata": {},
   "outputs": [
    {
     "data": {
      "text/plain": [
       "0.6724249223744102"
      ]
     },
     "execution_count": 177,
     "metadata": {},
     "output_type": "execute_result"
    }
   ],
   "source": [
    "# for i in range(0,3):\n",
    "AdaBoost_Net = AdaBoostRegressor(base_estimator=Bagging_Net, n_estimators=coeff, random_state=rng)\n",
    "AdaBoost_Net.fit(Train_X, Train_Y)\n",
    "AdaBoost_Net.score(Train_X, Train_Y)"
   ]
  },
  {
   "cell_type": "code",
   "execution_count": 178,
   "metadata": {},
   "outputs": [
    {
     "data": {
      "text/plain": [
       "0.6871160780408823"
      ]
     },
     "execution_count": 178,
     "metadata": {},
     "output_type": "execute_result"
    }
   ],
   "source": [
    "AdaBoost_Net.score(Test_X,Test_Y)"
   ]
  },
  {
   "cell_type": "markdown",
   "metadata": {},
   "source": [
    "**Ridge Regression**"
   ]
  },
  {
   "cell_type": "code",
   "execution_count": 29,
   "metadata": {},
   "outputs": [],
   "source": [
    "highest = 0\n",
    "coeff = 0\n",
    "for i in np.arange(0, 10, 0.1): # find the best regularizer value\n",
    "    ridge = Ridge(alpha=i)\n",
    "    ridge.fit(Train_X, Train_Y)\n",
    "#     ridge.score(Train_X, Train_Y)\n",
    "    curr_score = ridge.score(Train_Stacking_X, Train_Stacking_Y)\n",
    "    if(highest < curr_score):\n",
    "        highest = curr_score\n",
    "        coeff = i"
   ]
  },
  {
   "cell_type": "code",
   "execution_count": 30,
   "metadata": {},
   "outputs": [
    {
     "data": {
      "text/plain": [
       "(0.886179169216485, 0.2)"
      ]
     },
     "execution_count": 30,
     "metadata": {},
     "output_type": "execute_result"
    }
   ],
   "source": [
    "highest,coeff"
   ]
  },
  {
   "cell_type": "code",
   "execution_count": 31,
   "metadata": {},
   "outputs": [
    {
     "data": {
      "text/plain": [
       "Ridge(alpha=0.2, copy_X=True, fit_intercept=True, max_iter=None,\n",
       "      normalize=False, random_state=None, solver='auto', tol=0.001)"
      ]
     },
     "execution_count": 31,
     "metadata": {},
     "output_type": "execute_result"
    }
   ],
   "source": [
    "ridge = Ridge(alpha=coeff)\n",
    "ridge.fit(Train_X, Train_Y)\n",
    "ridge.score(Train_X, Train_Y)"
   ]
  },
  {
   "cell_type": "code",
   "execution_count": 33,
   "metadata": {},
   "outputs": [
    {
     "data": {
      "text/plain": [
       "0.8649592609207901"
      ]
     },
     "execution_count": 33,
     "metadata": {},
     "output_type": "execute_result"
    }
   ],
   "source": [
    "ridge.score(Test_X, Test_Y)"
   ]
  },
  {
   "cell_type": "markdown",
   "metadata": {},
   "source": [
    "**Linear Regression**"
   ]
  },
  {
   "cell_type": "code",
   "execution_count": 34,
   "metadata": {},
   "outputs": [],
   "source": [
    "lr = LinearRegression()"
   ]
  },
  {
   "cell_type": "code",
   "execution_count": 35,
   "metadata": {},
   "outputs": [
    {
     "data": {
      "text/plain": [
       "LinearRegression(copy_X=True, fit_intercept=True, n_jobs=None, normalize=False)"
      ]
     },
     "execution_count": 35,
     "metadata": {},
     "output_type": "execute_result"
    }
   ],
   "source": [
    "lr.fit(Train_X, Train_Y)"
   ]
  },
  {
   "cell_type": "code",
   "execution_count": 36,
   "metadata": {},
   "outputs": [
    {
     "data": {
      "text/plain": [
       "0.9221279413928494"
      ]
     },
     "execution_count": 36,
     "metadata": {},
     "output_type": "execute_result"
    }
   ],
   "source": [
    "lr.score(Train_X, Train_Y)"
   ]
  },
  {
   "cell_type": "code",
   "execution_count": 37,
   "metadata": {},
   "outputs": [
    {
     "data": {
      "text/plain": [
       "-8.43628072406134e+19"
      ]
     },
     "execution_count": 37,
     "metadata": {},
     "output_type": "execute_result"
    }
   ],
   "source": [
    "lr.score(Test_X, Test_Y)"
   ]
  },
  {
   "cell_type": "markdown",
   "metadata": {},
   "source": [
    "**Decision Tree**"
   ]
  },
  {
   "cell_type": "code",
   "execution_count": 38,
   "metadata": {},
   "outputs": [],
   "source": [
    "coeff = 0\n",
    "highest = 0\n",
    "for i in range(1,10):\n",
    "    Tree = tree.DecisionTreeRegressor(max_depth = i)\n",
    "    Tree.fit(Train_X, Train_Y)\n",
    "    curr_score = Tree.score(Train_Stacking_X, Train_Stacking_Y)\n",
    "    if(highest < curr_score):\n",
    "        highest = curr_score\n",
    "        coeff = i\n"
   ]
  },
  {
   "cell_type": "code",
   "execution_count": 39,
   "metadata": {},
   "outputs": [
    {
     "data": {
      "text/plain": [
       "(0.8590828891851584, 6)"
      ]
     },
     "execution_count": 39,
     "metadata": {},
     "output_type": "execute_result"
    }
   ],
   "source": [
    "highest, coeff"
   ]
  },
  {
   "cell_type": "code",
   "execution_count": 40,
   "metadata": {},
   "outputs": [
    {
     "data": {
      "text/plain": [
       "DecisionTreeRegressor(criterion='mse', max_depth=6, max_features=None,\n",
       "                      max_leaf_nodes=None, min_impurity_decrease=0.0,\n",
       "                      min_impurity_split=None, min_samples_leaf=1,\n",
       "                      min_samples_split=2, min_weight_fraction_leaf=0.0,\n",
       "                      presort=False, random_state=None, splitter='best')"
      ]
     },
     "execution_count": 40,
     "metadata": {},
     "output_type": "execute_result"
    }
   ],
   "source": [
    "Tree = tree.DecisionTreeRegressor(max_depth = coeff)\n",
    "Tree.fit(Train_X, Train_Y)\n",
    "Tree.score(Train_X,Train_Y)"
   ]
  },
  {
   "cell_type": "code",
   "execution_count": 42,
   "metadata": {},
   "outputs": [
    {
     "data": {
      "text/plain": [
       "0.7600107200909199"
      ]
     },
     "execution_count": 42,
     "metadata": {},
     "output_type": "execute_result"
    }
   ],
   "source": [
    "Tree.score(Test_X,Test_Y)"
   ]
  },
  {
   "cell_type": "code",
   "execution_count": 182,
   "metadata": {
    "scrolled": false
   },
   "outputs": [
    {
     "data": {
      "text/plain": [
       "(3, 0.9003388849621241)"
      ]
     },
     "execution_count": 182,
     "metadata": {},
     "output_type": "execute_result"
    }
   ],
   "source": [
    "coeff, highest = Bagging(Tree, Train_X, Train_Y, Train_Stacking_X, Train_Stacking_Y)\n",
    "coeff, highest"
   ]
  },
  {
   "cell_type": "code",
   "execution_count": 191,
   "metadata": {
    "scrolled": true
   },
   "outputs": [
    {
     "data": {
      "text/plain": [
       "0.7600107200909199"
      ]
     },
     "execution_count": 191,
     "metadata": {},
     "output_type": "execute_result"
    }
   ],
   "source": [
    "Bagging_Tree = BaggingRegressor(base_estimator =  Tree, n_estimators = coeff, bootstrap=False, warm_start=True)\n",
    "Bagging_Tree.fit(Train_X, Train_Y)\n",
    "Bagging_Tree.score(Train_X, Train_Y)"
   ]
  },
  {
   "cell_type": "code",
   "execution_count": null,
   "metadata": {},
   "outputs": [],
   "source": [
    "Bagging_Tree.score(Test_X, Test_Y)"
   ]
  },
  {
   "cell_type": "code",
   "execution_count": 192,
   "metadata": {},
   "outputs": [],
   "source": [
    "coeff, highest = Ada_Model(Bagging_Tree, Train_X, Train_Y, Train_Stacking_X, Train_Stacking_Y)"
   ]
  },
  {
   "cell_type": "code",
   "execution_count": 193,
   "metadata": {},
   "outputs": [
    {
     "data": {
      "text/plain": [
       "(0.9008207117392856, 16)"
      ]
     },
     "execution_count": 193,
     "metadata": {},
     "output_type": "execute_result"
    }
   ],
   "source": [
    "highest, coeff"
   ]
  },
  {
   "cell_type": "code",
   "execution_count": 198,
   "metadata": {},
   "outputs": [
    {
     "data": {
      "text/plain": [
       "0.9582202615634807"
      ]
     },
     "execution_count": 198,
     "metadata": {},
     "output_type": "execute_result"
    }
   ],
   "source": [
    "AdaBoost_Tree = AdaBoostRegressor(base_estimator=Bagging_Tree, n_estimators=coeff, random_state=rng)\n",
    "AdaBoost_Tree.fit(Train_X, Train_Y)\n",
    "AdaBoost_Tree.score(Train_X, Train_Y)"
   ]
  },
  {
   "cell_type": "code",
   "execution_count": 199,
   "metadata": {},
   "outputs": [
    {
     "data": {
      "text/plain": [
       "0.8804440726978119"
      ]
     },
     "execution_count": 199,
     "metadata": {},
     "output_type": "execute_result"
    }
   ],
   "source": [
    "AdaBoost_Tree.score(Test_X, Test_Y)"
   ]
  },
  {
   "cell_type": "markdown",
   "metadata": {},
   "source": [
    "**Bayesian Ridge**"
   ]
  },
  {
   "cell_type": "code",
   "execution_count": 48,
   "metadata": {},
   "outputs": [
    {
     "data": {
      "text/plain": [
       "BayesianRidge(alpha_1=1e-06, alpha_2=1e-06, compute_score=False, copy_X=True,\n",
       "              fit_intercept=True, lambda_1=1e-06, lambda_2=1e-06, n_iter=300,\n",
       "              normalize=False, tol=0.001, verbose=False)"
      ]
     },
     "execution_count": 48,
     "metadata": {},
     "output_type": "execute_result"
    }
   ],
   "source": [
    "BR = BayesianRidge()\n",
    "BR.fit(Train_X, Train_Y)\n",
    "BR.score(Train_X, Train_Y)"
   ]
  },
  {
   "cell_type": "code",
   "execution_count": 50,
   "metadata": {},
   "outputs": [
    {
     "data": {
      "text/plain": [
       "0.8681998400678294"
      ]
     },
     "execution_count": 50,
     "metadata": {},
     "output_type": "execute_result"
    }
   ],
   "source": [
    "BR.score(Test_X, Test_Y)"
   ]
  },
  {
   "cell_type": "markdown",
   "metadata": {},
   "source": [
    "**KNR**"
   ]
  },
  {
   "cell_type": "code",
   "execution_count": 51,
   "metadata": {},
   "outputs": [],
   "source": [
    "n = 100\n",
    "highest = 0\n",
    "node = 0\n",
    "for i in range(1,100):\n",
    "    neigh = KNeighborsRegressor(n_neighbors = i, algorithm = \"auto\", weights = \"distance\") #n_neighbors=2\n",
    "    neigh.fit(Train_X, Train_Y) \n",
    "#     curr_score = neigh.score(Train_X[:n], Train_Y[:n])\n",
    "    curr_score = neigh.score(Train_Stacking_X, Train_Stacking_Y)\n",
    "    if(highest < curr_score):\n",
    "        highest = curr_score\n",
    "        node = i"
   ]
  },
  {
   "cell_type": "code",
   "execution_count": 52,
   "metadata": {},
   "outputs": [
    {
     "data": {
      "text/plain": [
       "(1, 0.7204476074441567)"
      ]
     },
     "execution_count": 52,
     "metadata": {},
     "output_type": "execute_result"
    }
   ],
   "source": [
    "node, highest"
   ]
  },
  {
   "cell_type": "code",
   "execution_count": 203,
   "metadata": {},
   "outputs": [
    {
     "data": {
      "text/plain": [
       "0.7032469819887143"
      ]
     },
     "execution_count": 203,
     "metadata": {},
     "output_type": "execute_result"
    }
   ],
   "source": [
    "KNR = KNeighborsRegressor(n_neighbors = node, algorithm = \"auto\", weights = \"distance\") #n_neighbors=2\n",
    "KNR.fit(Train_X, Train_Y) \n",
    "KNR.score(Test_X, Test_Y)"
   ]
  },
  {
   "cell_type": "code",
   "execution_count": 204,
   "metadata": {},
   "outputs": [
    {
     "data": {
      "text/plain": [
       "0.7032469819887143"
      ]
     },
     "execution_count": 204,
     "metadata": {},
     "output_type": "execute_result"
    }
   ],
   "source": [
    "KNR.score(Test_X, Test_Y)"
   ]
  },
  {
   "cell_type": "code",
   "execution_count": 205,
   "metadata": {
    "scrolled": false
   },
   "outputs": [
    {
     "data": {
      "text/plain": [
       "(8, 0.7585914045707495)"
      ]
     },
     "execution_count": 205,
     "metadata": {},
     "output_type": "execute_result"
    }
   ],
   "source": [
    "coeff, highest = Bagging(KNR, Train_X, Train_Y, Train_Stacking_X, Train_Stacking_Y)\n",
    "coeff, highest"
   ]
  },
  {
   "cell_type": "code",
   "execution_count": 209,
   "metadata": {
    "scrolled": true
   },
   "outputs": [
    {
     "data": {
      "text/plain": [
       "1.0"
      ]
     },
     "execution_count": 209,
     "metadata": {},
     "output_type": "execute_result"
    }
   ],
   "source": [
    "Bagging_KNR = BaggingRegressor(base_estimator =  KNR, n_estimators = coeff, bootstrap=False, warm_start=True)\n",
    "Bagging_KNR.fit(Train_X, Train_Y)\n",
    "Bagging_KNR.score(Train_X, Train_Y)"
   ]
  },
  {
   "cell_type": "code",
   "execution_count": 210,
   "metadata": {},
   "outputs": [
    {
     "data": {
      "text/plain": [
       "0.7032469819887143"
      ]
     },
     "execution_count": 210,
     "metadata": {},
     "output_type": "execute_result"
    }
   ],
   "source": [
    "Bagging_KNR.score(Test_X, Test_Y)"
   ]
  },
  {
   "cell_type": "code",
   "execution_count": 213,
   "metadata": {},
   "outputs": [
    {
     "data": {
      "text/plain": [
       "(7, 0.7469084608436959)"
      ]
     },
     "execution_count": 213,
     "metadata": {},
     "output_type": "execute_result"
    }
   ],
   "source": [
    "coeff, highest = Ada_Model(Bagging_KNR, Train_X, Train_Y, Train_Stacking_X, Train_Stacking_Y)\n",
    "coeff, highest"
   ]
  },
  {
   "cell_type": "code",
   "execution_count": 221,
   "metadata": {},
   "outputs": [
    {
     "data": {
      "text/plain": [
       "0.9908341597373844"
      ]
     },
     "execution_count": 221,
     "metadata": {},
     "output_type": "execute_result"
    }
   ],
   "source": [
    "AdaBoost_KNR = AdaBoostRegressor(base_estimator=Bagging_KNR, n_estimators=coeff, random_state=rng)\n",
    "AdaBoost_KNR.fit(Train_X, Train_Y)\n",
    "AdaBoost_KNR.score(Train_X, Train_Y)"
   ]
  },
  {
   "cell_type": "code",
   "execution_count": 222,
   "metadata": {},
   "outputs": [
    {
     "data": {
      "text/plain": [
       "0.7162482773870065"
      ]
     },
     "execution_count": 222,
     "metadata": {},
     "output_type": "execute_result"
    }
   ],
   "source": [
    "AdaBoost_KNR.score(Test_X, Test_Y)"
   ]
  },
  {
   "cell_type": "markdown",
   "metadata": {},
   "source": [
    "**SVR**"
   ]
  },
  {
   "cell_type": "code",
   "execution_count": 60,
   "metadata": {},
   "outputs": [],
   "source": [
    "# svr_poly = SVR(kernel='rbf', C=1e7, gamma='auto',  epsilon=.1, coef0=1)\n",
    "# svr_poly = SVR(kernel='poly', C=1e7, gamma='auto', degree=3, epsilon=.1, coef0=1)\n",
    "svr_poly = SVR(kernel='poly', C=1e7, gamma='auto', degree=3, epsilon=.1, coef0=1)\n",
    "svr_poly.fit(Train_X, Train_Y)\n",
    "svr_poly.score(Train_X,Train_Y)"
   ]
  },
  {
   "cell_type": "code",
   "execution_count": 63,
   "metadata": {},
   "outputs": [
    {
     "data": {
      "text/plain": [
       "0.9004236321539211"
      ]
     },
     "execution_count": 63,
     "metadata": {},
     "output_type": "execute_result"
    }
   ],
   "source": [
    "svr_poly.score(Test_X,Test_Y)"
   ]
  },
  {
   "cell_type": "markdown",
   "metadata": {},
   "source": [
    "## Ensemble Learning"
   ]
  },
  {
   "cell_type": "code",
   "execution_count": 93,
   "metadata": {},
   "outputs": [],
   "source": [
    "#select all, strong, and weak models to ensemble\n",
    "\n",
    "all_models = [NN, BR, Net, AdaBoost_Net, Tree, AdaBoost_Tree, ridge, KNR, AdaBoost_KNR, svr_poly]\n",
    "all_models_labels = [\"NN\", \"BR\", \"Net\", \"AdaBoost_Net\", \"Tree\", \"AdaBoost_Tree\", \"Ridge\", \"KNR\", \"AdaBoost_KNR\", \"SVR\"]\n",
    "\n",
    "strong_models = [NN, BR, AdaBoost_Tree, ridge, svr_poly]\n",
    "strong_models_labels = [\"NN\", \"BR\", \"AdaBoost_Tree\", \"Ridge\", \"SVR\"]\n",
    "\n",
    "weak_models = [AdaBoost_Net, Tree, KNR]\n",
    "weak_models_labels = [\"AdaBoost_Net\", \"Tree\", \"KNR\"]\n"
   ]
  },
  {
   "cell_type": "markdown",
   "metadata": {},
   "source": [
    "### **Ensemble Learning - Voting**"
   ]
  },
  {
   "cell_type": "code",
   "execution_count": 76,
   "metadata": {
    "scrolled": true
   },
   "outputs": [
    {
     "data": {
      "text/plain": [
       "0.9493219904433526"
      ]
     },
     "execution_count": 76,
     "metadata": {},
     "output_type": "execute_result"
    }
   ],
   "source": [
    "lis = []\n",
    "for i in zip(all_models_labels,all_models):\n",
    "    lis.append(i)\n",
    "\n",
    "VR_all_models = VotingRegressor(estimators=lis)\n",
    "VR_all_models.fit(Train_X, Train_Y)\n",
    "VR_all_models.score(Train_X, Train_Y) # Training score"
   ]
  },
  {
   "cell_type": "code",
   "execution_count": 75,
   "metadata": {},
   "outputs": [
    {
     "data": {
      "text/plain": [
       "0.8722658823683983"
      ]
     },
     "execution_count": 75,
     "metadata": {},
     "output_type": "execute_result"
    }
   ],
   "source": [
    "VR_all_models.score(Test_X, Test_Y) # Testing Score"
   ]
  },
  {
   "cell_type": "markdown",
   "metadata": {},
   "source": [
    "**Voting with strong models**"
   ]
  },
  {
   "cell_type": "code",
   "execution_count": 77,
   "metadata": {},
   "outputs": [
    {
     "data": {
      "text/plain": [
       "0.947195160928139"
      ]
     },
     "execution_count": 77,
     "metadata": {},
     "output_type": "execute_result"
    }
   ],
   "source": [
    "lis = []\n",
    "for i in zip(strong_models_labels,strong_models):\n",
    "    lis.append(i)\n",
    "\n",
    "VR_strong_models = VotingRegressor(estimators=lis)\n",
    "VR_strong_models.fit(Train_X, Train_Y)\n",
    "VR_strong_models.score(Train_X, Train_Y) # Training score"
   ]
  },
  {
   "cell_type": "code",
   "execution_count": 78,
   "metadata": {},
   "outputs": [
    {
     "data": {
      "text/plain": [
       "0.8917000627803915"
      ]
     },
     "execution_count": 78,
     "metadata": {},
     "output_type": "execute_result"
    }
   ],
   "source": [
    "VR_strong_models.score(Test_X, Test_Y) # Testing Score"
   ]
  },
  {
   "cell_type": "markdown",
   "metadata": {},
   "source": [
    "**Voting with weak models**"
   ]
  },
  {
   "cell_type": "code",
   "execution_count": 79,
   "metadata": {},
   "outputs": [
    {
     "data": {
      "text/plain": [
       "0.9421656805838154"
      ]
     },
     "execution_count": 79,
     "metadata": {},
     "output_type": "execute_result"
    }
   ],
   "source": [
    "lis = []\n",
    "for i in zip(weak_models_labels,weak_models):\n",
    "    lis.append(i)\n",
    "\n",
    "VR_weak_models = VotingRegressor(estimators=lis)\n",
    "VR_weak_models.fit(Train_X, Train_Y)\n",
    "VR_weak_models.score(Train_X, Train_Y) # Training score"
   ]
  },
  {
   "cell_type": "code",
   "execution_count": 80,
   "metadata": {},
   "outputs": [
    {
     "data": {
      "text/plain": [
       "0.81680678617802"
      ]
     },
     "execution_count": 80,
     "metadata": {},
     "output_type": "execute_result"
    }
   ],
   "source": [
    "VR_weak_models.score(Test_X, Test_Y)"
   ]
  },
  {
   "cell_type": "markdown",
   "metadata": {},
   "source": [
    "### **Ensemble Learning - Stacking**"
   ]
  },
  {
   "cell_type": "code",
   "execution_count": 95,
   "metadata": {},
   "outputs": [],
   "source": [
    "meta = MLPRegressor() # early stop"
   ]
  },
  {
   "cell_type": "code",
   "execution_count": 97,
   "metadata": {},
   "outputs": [
    {
     "data": {
      "text/plain": [
       "0.7978492995636454"
      ]
     },
     "execution_count": 97,
     "metadata": {},
     "output_type": "execute_result"
    }
   ],
   "source": [
    "stregr = StackingRegressor(regressors=all_models, \n",
    "                           meta_regressor=meta)\n",
    "\n",
    "\n",
    "stregr.fit(Train_Stacking_X, Train_Stacking_Y)\n",
    "stregr.score(Train_Stacking_X, Train_Stacking_Y)"
   ]
  },
  {
   "cell_type": "code",
   "execution_count": 98,
   "metadata": {},
   "outputs": [
    {
     "data": {
      "text/plain": [
       "0.6046081150579941"
      ]
     },
     "execution_count": 98,
     "metadata": {},
     "output_type": "execute_result"
    }
   ],
   "source": [
    "stregr.score(Test_X, Test_Y)"
   ]
  },
  {
   "cell_type": "markdown",
   "metadata": {},
   "source": [
    "**Stacking with strong models**"
   ]
  },
  {
   "cell_type": "code",
   "execution_count": 99,
   "metadata": {
    "scrolled": true
   },
   "outputs": [
    {
     "data": {
      "text/plain": [
       "0.9548079772720761"
      ]
     },
     "execution_count": 99,
     "metadata": {},
     "output_type": "execute_result"
    }
   ],
   "source": [
    "stack_strong = StackingRegressor(regressors=strong_models, meta_regressor=meta) # strong models\n",
    "stack_strong.fit(Train_Stacking_X, Train_Stacking_Y)\n",
    "stack_strong.score(Train_Stacking_X, Train_Stacking_Y)"
   ]
  },
  {
   "cell_type": "code",
   "execution_count": 100,
   "metadata": {},
   "outputs": [
    {
     "data": {
      "text/plain": [
       "0.7956730597195213"
      ]
     },
     "execution_count": 100,
     "metadata": {},
     "output_type": "execute_result"
    }
   ],
   "source": [
    "stack_strong.score(Test_X, Test_Y)"
   ]
  },
  {
   "cell_type": "markdown",
   "metadata": {},
   "source": [
    "**Stacking with weak models**"
   ]
  },
  {
   "cell_type": "code",
   "execution_count": 106,
   "metadata": {
    "scrolled": true
   },
   "outputs": [
    {
     "data": {
      "text/plain": [
       "0.9835620098882245"
      ]
     },
     "execution_count": 106,
     "metadata": {},
     "output_type": "execute_result"
    }
   ],
   "source": [
    "stregr_weak = StackingRegressor(regressors=weak_models, meta_regressor=meta) # weak models\n",
    "stregr_weak.fit(Train_Stacking_X, Train_Stacking_Y)\n",
    "stregr_weak.score(Train_Stacking_X, Train_Stacking_Y)"
   ]
  },
  {
   "cell_type": "code",
   "execution_count": 102,
   "metadata": {},
   "outputs": [
    {
     "data": {
      "text/plain": [
       "0.7279210166298901"
      ]
     },
     "execution_count": 102,
     "metadata": {},
     "output_type": "execute_result"
    }
   ],
   "source": [
    "stregr_weak.score(Test_X, Test_Y)"
   ]
  },
  {
   "cell_type": "code",
   "execution_count": 112,
   "metadata": {},
   "outputs": [
    {
     "data": {
      "text/plain": [
       "0.7636692780262679"
      ]
     },
     "execution_count": 112,
     "metadata": {},
     "output_type": "execute_result"
    }
   ],
   "source": [
    "Bagging_all_models.score(Test_X, Test_Y)"
   ]
  },
  {
   "cell_type": "code",
   "execution_count": null,
   "metadata": {},
   "outputs": [],
   "source": []
  },
  {
   "cell_type": "code",
   "execution_count": null,
   "metadata": {},
   "outputs": [],
   "source": []
  },
  {
   "cell_type": "code",
   "execution_count": null,
   "metadata": {},
   "outputs": [],
   "source": []
  },
  {
   "cell_type": "markdown",
   "metadata": {},
   "source": [
    "## Compare Result"
   ]
  },
  {
   "cell_type": "code",
   "execution_count": 81,
   "metadata": {},
   "outputs": [
    {
     "data": {
      "text/plain": [
       "103"
      ]
     },
     "execution_count": 81,
     "metadata": {},
     "output_type": "execute_result"
    }
   ],
   "source": [
    "len(Test_X) # numbers of test sample"
   ]
  },
  {
   "cell_type": "code",
   "execution_count": 82,
   "metadata": {},
   "outputs": [
    {
     "data": {
      "text/plain": [
       "0.8621464009981835"
      ]
     },
     "execution_count": 82,
     "metadata": {},
     "output_type": "execute_result"
    }
   ],
   "source": [
    "NN.score(Test_X, Test_Y) #nerual network"
   ]
  },
  {
   "cell_type": "code",
   "execution_count": 83,
   "metadata": {},
   "outputs": [
    {
     "data": {
      "text/plain": [
       "0.8681998400678294"
      ]
     },
     "execution_count": 83,
     "metadata": {},
     "output_type": "execute_result"
    }
   ],
   "source": [
    "BR.score(Test_X, Test_Y) # Bayesian Ridge"
   ]
  },
  {
   "cell_type": "code",
   "execution_count": 84,
   "metadata": {},
   "outputs": [
    {
     "data": {
      "text/plain": [
       "0.6134309769745292"
      ]
     },
     "execution_count": 84,
     "metadata": {},
     "output_type": "execute_result"
    }
   ],
   "source": [
    "Net.score(Test_X, Test_Y) # Elastic Net "
   ]
  },
  {
   "cell_type": "code",
   "execution_count": 85,
   "metadata": {},
   "outputs": [
    {
     "data": {
      "text/plain": [
       "0.7084190492296869"
      ]
     },
     "execution_count": 85,
     "metadata": {},
     "output_type": "execute_result"
    }
   ],
   "source": [
    "AdaBoost_Net.score(Test_X, Test_Y) # Elastic Net + Adma"
   ]
  },
  {
   "cell_type": "code",
   "execution_count": 86,
   "metadata": {},
   "outputs": [
    {
     "data": {
      "text/plain": [
       "0.7600107200909199"
      ]
     },
     "execution_count": 86,
     "metadata": {},
     "output_type": "execute_result"
    }
   ],
   "source": [
    "Tree.score(Test_X, Test_Y) # Decision Tree"
   ]
  },
  {
   "cell_type": "code",
   "execution_count": 87,
   "metadata": {},
   "outputs": [
    {
     "data": {
      "text/plain": [
       "0.8920661487938788"
      ]
     },
     "execution_count": 87,
     "metadata": {},
     "output_type": "execute_result"
    }
   ],
   "source": [
    "AdaBoost_Tree.score(Test_X, Test_Y) # Decision Tree + Adam"
   ]
  },
  {
   "cell_type": "code",
   "execution_count": 88,
   "metadata": {},
   "outputs": [
    {
     "data": {
      "text/plain": [
       "0.8649592609207901"
      ]
     },
     "execution_count": 88,
     "metadata": {},
     "output_type": "execute_result"
    }
   ],
   "source": [
    "ridge.score(Test_X, Test_Y) # ridge"
   ]
  },
  {
   "cell_type": "code",
   "execution_count": 89,
   "metadata": {},
   "outputs": [
    {
     "data": {
      "text/plain": [
       "0.7032469819887143"
      ]
     },
     "execution_count": 89,
     "metadata": {},
     "output_type": "execute_result"
    }
   ],
   "source": [
    "neigh.score(Test_X, Test_Y) # KNR"
   ]
  },
  {
   "cell_type": "code",
   "execution_count": 90,
   "metadata": {},
   "outputs": [
    {
     "data": {
      "text/plain": [
       "0.6927023097234939"
      ]
     },
     "execution_count": 90,
     "metadata": {},
     "output_type": "execute_result"
    }
   ],
   "source": [
    "AdaBoost_KNR.score(Test_X, Test_Y) # KNR + Adam"
   ]
  },
  {
   "cell_type": "code",
   "execution_count": 91,
   "metadata": {},
   "outputs": [
    {
     "data": {
      "text/plain": [
       "0.9004236321539211"
      ]
     },
     "execution_count": 91,
     "metadata": {},
     "output_type": "execute_result"
    }
   ],
   "source": [
    "svr_poly.score(Test_X, Test_Y) # svr "
   ]
  },
  {
   "cell_type": "code",
   "execution_count": 92,
   "metadata": {
    "scrolled": false
   },
   "outputs": [
    {
     "ename": "NameError",
     "evalue": "name 'stregr' is not defined",
     "output_type": "error",
     "traceback": [
      "\u001b[0;31m---------------------------------------------------------------------------\u001b[0m",
      "\u001b[0;31mNameError\u001b[0m                                 Traceback (most recent call last)",
      "\u001b[0;32m<ipython-input-92-274481adcfaa>\u001b[0m in \u001b[0;36m<module>\u001b[0;34m\u001b[0m\n\u001b[1;32m     13\u001b[0m \u001b[0;34m\u001b[0m\u001b[0m\n\u001b[1;32m     14\u001b[0m \u001b[0mplt\u001b[0m\u001b[0;34m.\u001b[0m\u001b[0mplot\u001b[0m\u001b[0;34m(\u001b[0m\u001b[0mereg\u001b[0m\u001b[0;34m.\u001b[0m\u001b[0mpredict\u001b[0m\u001b[0;34m(\u001b[0m\u001b[0mxt\u001b[0m\u001b[0;34m)\u001b[0m\u001b[0;34m,\u001b[0m \u001b[0;34m'r*'\u001b[0m\u001b[0;34m,\u001b[0m\u001b[0malpha\u001b[0m \u001b[0;34m=\u001b[0m \u001b[0malpha\u001b[0m\u001b[0;34m,\u001b[0m \u001b[0mlabel\u001b[0m\u001b[0;34m=\u001b[0m\u001b[0;34m'VotingRegressor'\u001b[0m\u001b[0;34m)\u001b[0m\u001b[0;34m\u001b[0m\u001b[0;34m\u001b[0m\u001b[0m\n\u001b[0;32m---> 15\u001b[0;31m \u001b[0mplt\u001b[0m\u001b[0;34m.\u001b[0m\u001b[0mplot\u001b[0m\u001b[0;34m(\u001b[0m\u001b[0mstregr\u001b[0m\u001b[0;34m.\u001b[0m\u001b[0mpredict\u001b[0m\u001b[0;34m(\u001b[0m\u001b[0mxt\u001b[0m\u001b[0;34m)\u001b[0m\u001b[0;34m,\u001b[0m \u001b[0;34m'm*'\u001b[0m\u001b[0;34m,\u001b[0m\u001b[0malpha\u001b[0m \u001b[0;34m=\u001b[0m \u001b[0malpha\u001b[0m\u001b[0;34m,\u001b[0m \u001b[0mlabel\u001b[0m\u001b[0;34m=\u001b[0m\u001b[0;34m'StackingRegressor'\u001b[0m\u001b[0;34m)\u001b[0m\u001b[0;34m\u001b[0m\u001b[0;34m\u001b[0m\u001b[0m\n\u001b[0m\u001b[1;32m     16\u001b[0m \u001b[0;34m\u001b[0m\u001b[0m\n\u001b[1;32m     17\u001b[0m \u001b[0;34m\u001b[0m\u001b[0m\n",
      "\u001b[0;31mNameError\u001b[0m: name 'stregr' is not defined"
     ]
    },
    {
     "data": {
      "image/png": "[encoded data removed]",
      "text/plain": [
       "<Figure size 1296x648 with 1 Axes>"
      ]
     },
     "metadata": {
      "needs_background": "light"
     },
     "output_type": "display_data"
    }
   ],
   "source": [
    "\n",
    "num = 50\n",
    "xt = Test_X[:num]\n",
    "\n",
    "alpha = 0.6\n",
    "plt.figure(figsize=(18,9))\n",
    "plt.plot(NN.predict(xt), 'gd',alpha = alpha, label='NN')\n",
    "plt.plot(BR.predict(xt), 'ko',alpha = alpha, label='BR')\n",
    "plt.plot(Net.predict(xt), 'b^',alpha = alpha, label='Net')\n",
    "plt.plot(neigh.predict(xt), 'b+',alpha = alpha, label='KNR')\n",
    "plt.plot(Tree.predict(xt), 'cs',alpha = alpha, label='Tree')\n",
    "plt.plot(ridge.predict(xt), 'yp',alpha = alpha, label='Ridge')\n",
    "plt.plot(svr_poly.predict(xt), 'ys',alpha = alpha, label='SVR')\n",
    "\n",
    "plt.plot(ereg.predict(xt), 'r*',alpha = alpha, label='VotingRegressor')\n",
    "plt.plot(stregr.predict(xt), 'm*',alpha = alpha, label='StackingRegressor')\n",
    "\n",
    "\n",
    "plt.plot(Test_Y[:num], 'black', label='Y_Real')\n",
    "\n",
    "\n",
    "plt.tick_params(axis='x', which='both', bottom=False, top=False,\n",
    "                labelbottom=False)\n",
    "plt.ylabel('predicted')\n",
    "plt.xlabel('training samples')\n",
    "plt.legend(loc=\"best\")\n",
    "plt.title('Comparison of individual predictions with averaged')\n",
    "plt.savefig('result.pdf')\n",
    "plt.show()\n"
   ]
  },
  {
   "cell_type": "code",
   "execution_count": null,
   "metadata": {},
   "outputs": [],
   "source": []
  },
  {
   "cell_type": "code",
   "execution_count": null,
   "metadata": {},
   "outputs": [],
   "source": []
  },
  {
   "cell_type": "code",
   "execution_count": null,
   "metadata": {},
   "outputs": [],
   "source": []
  },
  {
   "cell_type": "code",
   "execution_count": null,
   "metadata": {},
   "outputs": [],
   "source": []
  }
 ],
 "metadata": {
  "kernelspec": {
   "display_name": "Python 3",
   "language": "python",
   "name": "python3"
  },
  "language_info": {
   "codemirror_mode": {
    "name": "ipython",
    "version": 3
   },
   "file_extension": ".py",
   "mimetype": "text/x-python",
   "name": "python",
   "nbconvert_exporter": "python",
   "pygments_lexer": "ipython3",
   "version": "3.7.3"
  }
 },
 "nbformat": 4,
 "nbformat_minor": 2
}
