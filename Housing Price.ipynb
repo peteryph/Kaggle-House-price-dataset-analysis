{
 "cells": [
  {
   "cell_type": "code",
   "execution_count": 2,
   "metadata": {},
   "outputs": [],
   "source": [
    "import plotly\n",
    "import math\n",
    "import pandas\n",
    "import sklearn\n",
    "import sklearn.model_selection\n",
    "from sklearn.decomposition import PCA\n",
    "import matplotlib.pyplot as plt\n",
    "from sklearn.utils import shuffle\n",
    "from sklearn.neural_network import MLPClassifier, MLPRegressor\n",
    "import numpy as np\n",
    "pandas.set_option('display.max_columns', None)\n",
    "from sklearn.preprocessing import MinMaxScaler\n",
    "from sklearn.svm import SVR\n",
    "from sklearn import tree\n",
    "from sklearn.ensemble import VotingRegressor\n",
    "from sklearn.linear_model import ElasticNet\n",
    "from sklearn.naive_bayes import GaussianNB\n",
    "from sklearn import linear_model\n",
    "from sklearn.neighbors import KNeighborsRegressor, NearestNeighbors, RadiusNeighborsRegressor\n",
    "from sklearn.model_selection import cross_val_score\n",
    "from mlxtend.regressor import StackingRegressor\n"
   ]
  },
  {
   "cell_type": "code",
   "execution_count": 3,
   "metadata": {
    "scrolled": true
   },
   "outputs": [],
   "source": [
    "df = pandas.read_csv(\"train.csv\", header = 0)\n",
    "df = df.drop(columns = [\"Street\", \"Utilities\", \"PoolQC\", \"GarageYrBlt\"])\n",
    "# df = df.drop(columns = [\"Street\", \"Utilities\", \"PoolQC\", \"GarageYrBlt\", \"MoSold\", \"YrSold\", \"YearBuilt\", \"YearRemodAdd\"])"
   ]
  },
  {
   "cell_type": "markdown",
   "metadata": {},
   "source": [
    "**Convert to one-hot**\n",
    "- MSSubClass, MSZoning, Street, LotConfig, LandSlope, Neighborhood, Condition1, Condition2, BldgType, HouseStyle, RoofStyle, RoofMatl, Exterior1st, Exterior2nd, MasVnrType, Foundation, Heating, Electrical, Functional, GarageType, PavedDrive, Fence, MiscFeature, SaleType, SaleConditionc, Alley"
   ]
  },
  {
   "cell_type": "code",
   "execution_count": 4,
   "metadata": {},
   "outputs": [],
   "source": [
    "cate_list =[\"Alley\",\"MSSubClass\", \"MSZoning\", \"LotConfig\", \"LandSlope\", \"Neighborhood\", \"Condition1\", \"Condition2\", \"BldgType\", \"HouseStyle\", \"RoofStyle\", \"RoofMatl\", \"Exterior1st\", \"Exterior2nd\", \"MasVnrType\", \"Foundation\", \"Heating\", \"Electrical\", \"Functional\", \"GarageType\", \"PavedDrive\", \"Fence\", \"MiscFeature\", \"SaleType\", \"SaleCondition\"]"
   ]
  },
  {
   "cell_type": "code",
   "execution_count": 5,
   "metadata": {},
   "outputs": [],
   "source": [
    "for c in cate_list:\n",
    "    lis = []\n",
    "    for i in df[c].unique():\n",
    "        if(not isinstance(i, float)):\n",
    "#             if(not math.isnan(i)):\n",
    "            lis.append((i))\n",
    "        \n",
    "    # Type_key = df.groupby(\"Type 1\").groups.keys() # take all the key values\n",
    "    Type = pandas.DataFrame(columns = sorted(lis, reverse = False)) # create the new dataframe base the all the type key found\n",
    "    key = list(Type.keys()) # loop over all the types\n",
    "    count = 0\n",
    "\n",
    "    for i in df[c].tolist():\n",
    "        value_list = np.zeros(len(key)).reshape(1,len(key)) # default all 0\n",
    "        value_list = pandas.DataFrame(value_list, columns = key)\n",
    "        Type = Type.append(value_list) # append the new row into dataframe\n",
    "        Type.iloc[count][(i)] = 1 # the select type feature will be 1\n",
    "        count += 1 # index the current row\n",
    "        \n",
    "    for i in Type.keys():\n",
    "        df[str(c)+str(i)] = Type[i].tolist()\n",
    "df = df.drop(columns = cate_list)"
   ]
  },
  {
   "cell_type": "markdown",
   "metadata": {},
   "source": [
    "**Convert to Boolean**"
   ]
  },
  {
   "cell_type": "code",
   "execution_count": 6,
   "metadata": {
    "scrolled": true
   },
   "outputs": [],
   "source": [
    "CA_list = df[\"CentralAir\"].tolist()\n",
    "CA_Convert_list = []\n",
    "for i in CA_list:\n",
    "    if(i == \"N\"):\n",
    "        CA_Convert_list.append(0)\n",
    "    else:\n",
    "        CA_Convert_list.append(1)\n",
    "df[\"CentralAir_New\"] = CA_Convert_list\n",
    "df = df.drop(columns = [\"CentralAir\"])"
   ]
  },
  {
   "cell_type": "markdown",
   "metadata": {},
   "source": [
    "**Convert to Rank**\n",
    "\n",
    "- LotShape, LandContour, ExterQual, ExterCond, BsmtQual, BsmtCond, BsmtExposure, BsmtFinType1, BsmtFinType2, HeatingQC, KitchenQual, FireplaceQu, GarageFinish, GarageQual, GarageCond, PoolQC\n",
    "\n",
    "- OverallQual, OverallCond"
   ]
  },
  {
   "cell_type": "code",
   "execution_count": 7,
   "metadata": {
    "scrolled": true
   },
   "outputs": [],
   "source": [
    "LotShape_Convert_list = []\n",
    "for i in df[\"LotShape\"].tolist():\n",
    "    if(i == \"Reg\"):\n",
    "        LotShape_Convert_list.append(3)\n",
    "    elif(i == \"IR1\"):\n",
    "        LotShape_Convert_list.append(2)\n",
    "    elif(i == \"IR2\"):\n",
    "        LotShape_Convert_list.append(1)\n",
    "    elif(i == \"IR3\"):\n",
    "        LotShape_Convert_list.append(0)\n",
    "df[\"LotShape_New\"] = LotShape_Convert_list\n",
    "df = df.drop(columns = [\"LotShape\"])"
   ]
  },
  {
   "cell_type": "code",
   "execution_count": 8,
   "metadata": {},
   "outputs": [],
   "source": [
    "LandContour_Convert_list = []\n",
    "for i in df[\"LandContour\"].tolist():\n",
    "    if(i == \"Lvl\"):\n",
    "        LandContour_Convert_list.append(3)\n",
    "    elif(i == \"Bnk\"):\n",
    "        LandContour_Convert_list.append(2)\n",
    "    elif(i == \"HLS\"):\n",
    "        LandContour_Convert_list.append(1)\n",
    "    elif(i == \"Low\"):\n",
    "        LandContour_Convert_list.append(0)\n",
    "df[\"LandContour_New\"] = LandContour_Convert_list\n",
    "df = df.drop(columns = [\"LandContour\"])"
   ]
  },
  {
   "cell_type": "code",
   "execution_count": 9,
   "metadata": {
    "scrolled": true
   },
   "outputs": [],
   "source": [
    "for k in [\"ExterCond\", \"ExterQual\", \"HeatingQC\", \"KitchenQual\"]:\n",
    "    ExterQual_Convert_list = []\n",
    "    for i in df[k].tolist():\n",
    "        if(i == \"Ex\"):\n",
    "            ExterQual_Convert_list.append(4)\n",
    "        elif(i == \"Gd\"):\n",
    "            ExterQual_Convert_list.append(3)\n",
    "        elif(i == \"TA\"):\n",
    "            ExterQual_Convert_list.append(2)\n",
    "        elif(i == \"Fa\"):\n",
    "            ExterQual_Convert_list.append(1)\n",
    "        elif(i == \"Po\"):\n",
    "            ExterQual_Convert_list.append(0)\n",
    "    df[str(k)+\"_New\"] = ExterQual_Convert_list\n",
    "    df = df.drop(columns = [k])"
   ]
  },
  {
   "cell_type": "code",
   "execution_count": 10,
   "metadata": {},
   "outputs": [],
   "source": [
    "for k in [\"BsmtExposure\"]:\n",
    "    ExterQual_Convert_list = []\n",
    "    for i in df[k].tolist():\n",
    "        if(not isinstance(i, float)):\n",
    "            if(i == \"Gd\"):\n",
    "                ExterQual_Convert_list.append(4)\n",
    "            elif(i == \"Av\"):\n",
    "                ExterQual_Convert_list.append(3)\n",
    "            elif(i == \"Mn\"):\n",
    "                ExterQual_Convert_list.append(2)\n",
    "            elif(i == \"No\"):\n",
    "                ExterQual_Convert_list.append(1)\n",
    "        else:\n",
    "            ExterQual_Convert_list.append(0)\n",
    "\n",
    "\n",
    "    df[str(k)+\"_New\"] = ExterQual_Convert_list\n",
    "    df = df.drop(columns = [k])"
   ]
  },
  {
   "cell_type": "code",
   "execution_count": 11,
   "metadata": {},
   "outputs": [],
   "source": [
    "for k in [\"BsmtCond\", \"BsmtQual\", \"FireplaceQu\", \"GarageQual\", \"GarageCond\"]:\n",
    "    BsmtQual_Convert_list = []\n",
    "    for i in df[k].tolist():\n",
    "        if(not isinstance(i, float)):\n",
    "            if(i == \"Ex\"):\n",
    "                BsmtQual_Convert_list.append(5)\n",
    "            elif(i == \"Gd\"):\n",
    "                BsmtQual_Convert_list.append(4)\n",
    "            elif(i == \"TA\"):\n",
    "                BsmtQual_Convert_list.append(3)\n",
    "            elif(i == \"Fa\"):\n",
    "                BsmtQual_Convert_list.append(2)\n",
    "            elif(i == \"Po\"):\n",
    "                BsmtQual_Convert_list.append(1)\n",
    "            elif(i == \"NA\"):\n",
    "                BsmtQual_Convert_list.append(0)\n",
    "        else:\n",
    "            BsmtQual_Convert_list.append(0)\n",
    "\n",
    "\n",
    "    df[str(k)+\"_New\"] = BsmtQual_Convert_list\n",
    "    df = df.drop(columns = [k])"
   ]
  },
  {
   "cell_type": "code",
   "execution_count": 12,
   "metadata": {
    "scrolled": true
   },
   "outputs": [],
   "source": [
    "for k in [\"BsmtFinType1\", \"BsmtFinType2\"]:\n",
    "    BsmtQual_Convert_list = []\n",
    "    for i in df[k].tolist():\n",
    "        if(not isinstance(i, float)):\n",
    "            if(i == \"GLQ\"):\n",
    "                BsmtQual_Convert_list.append(6)\n",
    "            elif(i == \"ALQ\"):\n",
    "                BsmtQual_Convert_list.append(5)\n",
    "            elif(i == \"Rec\"):\n",
    "                BsmtQual_Convert_list.append(4)\n",
    "            elif(i == \"BLQ\"):\n",
    "                BsmtQual_Convert_list.append(3)\n",
    "            elif(i == \"LwQ\"):\n",
    "                BsmtQual_Convert_list.append(2)\n",
    "            elif(i == \"Unf\"):\n",
    "                BsmtQual_Convert_list.append(1)\n",
    "            elif(i == \"NA\"):\n",
    "                BsmtQual_Convert_list.append(0)\n",
    "        else:\n",
    "            BsmtQual_Convert_list.append(0)\n",
    "\n",
    "\n",
    "    df[str(k)+\"_New\"] = BsmtQual_Convert_list\n",
    "    df = df.drop(columns = [k])\n"
   ]
  },
  {
   "cell_type": "code",
   "execution_count": 13,
   "metadata": {},
   "outputs": [],
   "source": [
    "for k in [\"GarageFinish\"]:\n",
    "    BsmtQual_Convert_list = []\n",
    "    for i in df[k].tolist():\n",
    "        if(not isinstance(i, float)):\n",
    "            if(i == \"Fin\"):\n",
    "                BsmtQual_Convert_list.append(3)\n",
    "            elif(i == \"RFn\"):\n",
    "                BsmtQual_Convert_list.append(2)\n",
    "            elif(i == \"Unf\"):\n",
    "                BsmtQual_Convert_list.append(1)\n",
    "            elif(i == \"NA\"):\n",
    "                BsmtQual_Convert_list.append(0)\n",
    "        else:\n",
    "            BsmtQual_Convert_list.append(0)\n",
    "df[str(k)+\"_New\"] = BsmtQual_Convert_list\n",
    "df = df.drop(columns = [k])"
   ]
  },
  {
   "cell_type": "code",
   "execution_count": 14,
   "metadata": {},
   "outputs": [],
   "source": [
    "# replace nan to 0\n",
    "df[\"LotFrontage\"] = df[\"LotFrontage\"].fillna(0).tolist()\n",
    "df[\"MasVnrArea\"] = df[\"MasVnrArea\"].fillna(0).tolist()\n",
    "df = df.drop(columns = [\"Id\"])\n"
   ]
  },
  {
   "cell_type": "code",
   "execution_count": 15,
   "metadata": {
    "scrolled": true
   },
   "outputs": [],
   "source": [
    "scale_df = df.drop(columns = [\"SalePrice\"])\n",
    "keys = list(scale_df.keys())\n",
    "\n",
    "scaler = MinMaxScaler()\n",
    "MinMaxScaler(copy=True, feature_range=(0, 1))\n",
    "scaler.fit(scale_df)\n",
    "scale_df = scaler.transform(scale_df)\n",
    "scale_df = pandas.DataFrame(scale_df, columns = keys)\n",
    "scale_df[\"SalePrice\"] = df[\"SalePrice\"].tolist()\n"
   ]
  },
  {
   "cell_type": "code",
   "execution_count": 16,
   "metadata": {
    "scrolled": true
   },
   "outputs": [],
   "source": [
    "df = scale_df"
   ]
  },
  {
   "cell_type": "markdown",
   "metadata": {},
   "source": [
    "**PCA**"
   ]
  },
  {
   "cell_type": "code",
   "execution_count": 203,
   "metadata": {
    "scrolled": true
   },
   "outputs": [],
   "source": [
    "candidate_components = range(10, 240, 30)\n",
    "explained_ratios = []\n",
    "for c in candidate_components:\n",
    "    pca = PCA(n_components=c)\n",
    "    X_pca = pca.fit_transform(df.drop(columns = [\"SalePrice\"]))\n",
    "    explained_ratios.append(np.sum(pca.explained_variance_ratio_))\n",
    "\n",
    "plt.figure(figsize=(10, 6), dpi=144)\n",
    "plt.grid()\n",
    "plt.plot(candidate_components, explained_ratios)\n",
    "plt.xlabel('Number of PCA Components')\n",
    "plt.ylabel('Explained Variance Ratio')\n",
    "plt.title('Explained variance ratio for PCA')\n",
    "plt.yticks(np.arange(0.5, 1.05, .05))\n",
    "plt.xticks(np.arange(0, 300, 20))"
   ]
  },
  {
   "cell_type": "code",
   "execution_count": null,
   "metadata": {},
   "outputs": [],
   "source": [
    "Y = df[\"SalePrice\"].tolist()\n",
    "X = df.drop(columns = [\"SalePrice\"]).values.tolist()\n",
    "pca = sklearn.decomposition.PCA(n_components=100)\n",
    "pca.fit(X)\n",
    "X = pca.transform(X)\n"
   ]
  },
  {
   "cell_type": "code",
   "execution_count": null,
   "metadata": {},
   "outputs": [],
   "source": [
    "X.shape"
   ]
  },
  {
   "cell_type": "markdown",
   "metadata": {},
   "source": [
    "**Dataset**"
   ]
  },
  {
   "cell_type": "code",
   "execution_count": 17,
   "metadata": {},
   "outputs": [],
   "source": [
    "dataset = shuffle(df)\n",
    "Test = dataset[:100]\n",
    "Train = dataset[100:]\n",
    "\n",
    "Test_X = Test.drop(columns = \"SalePrice\").values.tolist()\n",
    "Test_Y = Test[\"SalePrice\"].tolist()\n",
    "\n",
    "Train_X = Train.drop(columns = \"SalePrice\").values.tolist()\n",
    "Train_Y = Train[\"SalePrice\"].tolist()"
   ]
  },
  {
   "cell_type": "code",
   "execution_count": 206,
   "metadata": {},
   "outputs": [],
   "source": [
    "# FOR PCA\n",
    "Test = X[:100]\n",
    "Train = X[100:]\n",
    "\n",
    "Test_X = Test\n",
    "Test_Y = Y[:100]\n",
    "\n",
    "Train_X = Train\n",
    "Train_Y = Y[100:]"
   ]
  },
  {
   "cell_type": "markdown",
   "metadata": {},
   "source": [
    "**Model Neural Network**"
   ]
  },
  {
   "cell_type": "code",
   "execution_count": 18,
   "metadata": {},
   "outputs": [
    {
     "data": {
      "text/plain": [
       "MLPRegressor(activation='relu', alpha=0.0001, batch_size='auto', beta_1=0.9,\n",
       "             beta_2=0.999, early_stopping=True, epsilon=1e-08,\n",
       "             hidden_layer_sizes=(30, 20, 5), learning_rate='constant',\n",
       "             learning_rate_init=0.1, max_iter=1000, momentum=0.9,\n",
       "             n_iter_no_change=10, nesterovs_momentum=True, power_t=0.5,\n",
       "             random_state=1, shuffle=True, solver='adam', tol=0.0001,\n",
       "             validation_fraction=0.1, verbose=False, warm_start=False)"
      ]
     },
     "execution_count": 18,
     "metadata": {},
     "output_type": "execute_result"
    }
   ],
   "source": [
    "NN = MLPRegressor(solver='adam',  # weight optimization\n",
    "                    activation='relu',  # activation function\n",
    "                    alpha=1e-4, # Regularizer value\n",
    "                    learning_rate_init = 0.1,\n",
    "                    hidden_layer_sizes=(30,20,5), # layer and node (node,node) --> numbers of layers\n",
    "                    random_state=1, #random state\n",
    "                    max_iter = 1000, # max iteration\n",
    "                    early_stopping = True) # early stop\n",
    "\n",
    "NN.fit(Train_X, Train_Y) # fit the neural network\n",
    "# scores = sklearn.model_selection.cross_val_score(clf, Train_X, Train_Y, cv=5)\n"
   ]
  },
  {
   "cell_type": "code",
   "execution_count": 19,
   "metadata": {},
   "outputs": [
    {
     "data": {
      "text/plain": [
       "0.850444012859298"
      ]
     },
     "execution_count": 19,
     "metadata": {},
     "output_type": "execute_result"
    }
   ],
   "source": [
    "NN.score(Train_X, Train_Y)"
   ]
  },
  {
   "cell_type": "code",
   "execution_count": 20,
   "metadata": {},
   "outputs": [
    {
     "data": {
      "text/plain": [
       "0.8646539652939497"
      ]
     },
     "execution_count": 20,
     "metadata": {},
     "output_type": "execute_result"
    }
   ],
   "source": [
    "NN.score(Test_X, Test_Y)"
   ]
  },
  {
   "cell_type": "code",
   "execution_count": 202,
   "metadata": {
    "scrolled": true
   },
   "outputs": [],
   "source": [
    "# NN.validation_scores_ # optimisation history"
   ]
  },
  {
   "cell_type": "markdown",
   "metadata": {},
   "source": [
    "**Elastic Net**"
   ]
  },
  {
   "cell_type": "code",
   "execution_count": 21,
   "metadata": {},
   "outputs": [
    {
     "data": {
      "text/plain": [
       "ElasticNet(alpha=1.0, copy_X=True, fit_intercept=True, l1_ratio=0.5,\n",
       "           max_iter=1000, normalize=False, positive=False, precompute=False,\n",
       "           random_state=0, selection='cyclic', tol=0.0001, warm_start=True)"
      ]
     },
     "execution_count": 21,
     "metadata": {},
     "output_type": "execute_result"
    }
   ],
   "source": [
    "Net = ElasticNet(random_state=0, warm_start = True)\n",
    "Net.fit(Train_X, Train_Y)  "
   ]
  },
  {
   "cell_type": "code",
   "execution_count": 22,
   "metadata": {},
   "outputs": [
    {
     "data": {
      "text/plain": [
       "0.6078136802722819"
      ]
     },
     "execution_count": 22,
     "metadata": {},
     "output_type": "execute_result"
    }
   ],
   "source": [
    "Net.score(Train_X,Train_Y)"
   ]
  },
  {
   "cell_type": "code",
   "execution_count": 23,
   "metadata": {},
   "outputs": [
    {
     "data": {
      "text/plain": [
       "0.7125329001120964"
      ]
     },
     "execution_count": 23,
     "metadata": {},
     "output_type": "execute_result"
    }
   ],
   "source": [
    "Net.score(Test_X,Test_Y)"
   ]
  },
  {
   "cell_type": "markdown",
   "metadata": {},
   "source": [
    "**Decision Tree**"
   ]
  },
  {
   "cell_type": "code",
   "execution_count": 24,
   "metadata": {},
   "outputs": [
    {
     "data": {
      "text/plain": [
       "DecisionTreeRegressor(criterion='mse', max_depth=None, max_features=None,\n",
       "                      max_leaf_nodes=None, min_impurity_decrease=0.0,\n",
       "                      min_impurity_split=None, min_samples_leaf=1,\n",
       "                      min_samples_split=2, min_weight_fraction_leaf=0.0,\n",
       "                      presort=False, random_state=None, splitter='best')"
      ]
     },
     "execution_count": 24,
     "metadata": {},
     "output_type": "execute_result"
    }
   ],
   "source": [
    "Tree = tree.DecisionTreeRegressor()\n",
    "Tree.fit(Train_X, Train_Y)"
   ]
  },
  {
   "cell_type": "code",
   "execution_count": 25,
   "metadata": {},
   "outputs": [
    {
     "data": {
      "text/plain": [
       "1.0"
      ]
     },
     "execution_count": 25,
     "metadata": {},
     "output_type": "execute_result"
    }
   ],
   "source": [
    "Tree.score(Train_X,Train_Y)"
   ]
  },
  {
   "cell_type": "code",
   "execution_count": 26,
   "metadata": {},
   "outputs": [
    {
     "data": {
      "text/plain": [
       "0.7505937462001365"
      ]
     },
     "execution_count": 26,
     "metadata": {},
     "output_type": "execute_result"
    }
   ],
   "source": [
    "Tree.score(Test_X,Test_Y)"
   ]
  },
  {
   "cell_type": "markdown",
   "metadata": {},
   "source": [
    "**Bayesian Ridge**"
   ]
  },
  {
   "cell_type": "code",
   "execution_count": 27,
   "metadata": {},
   "outputs": [
    {
     "data": {
      "text/plain": [
       "BayesianRidge(alpha_1=1e-06, alpha_2=1e-06, compute_score=False, copy_X=True,\n",
       "              fit_intercept=True, lambda_1=1e-06, lambda_2=1e-06, n_iter=300,\n",
       "              normalize=False, tol=0.001, verbose=False)"
      ]
     },
     "execution_count": 27,
     "metadata": {},
     "output_type": "execute_result"
    }
   ],
   "source": [
    "BR = linear_model.BayesianRidge()\n",
    "BR.fit(Train_X, Train_Y)"
   ]
  },
  {
   "cell_type": "code",
   "execution_count": 28,
   "metadata": {},
   "outputs": [
    {
     "data": {
      "text/plain": [
       "0.9048648196311421"
      ]
     },
     "execution_count": 28,
     "metadata": {},
     "output_type": "execute_result"
    }
   ],
   "source": [
    "BR.score(Train_X, Train_Y)"
   ]
  },
  {
   "cell_type": "code",
   "execution_count": 29,
   "metadata": {},
   "outputs": [
    {
     "data": {
      "text/plain": [
       "0.9067546455773876"
      ]
     },
     "execution_count": 29,
     "metadata": {},
     "output_type": "execute_result"
    }
   ],
   "source": [
    "BR.score(Test_X, Test_Y)"
   ]
  },
  {
   "cell_type": "markdown",
   "metadata": {},
   "source": [
    "**KNR**"
   ]
  },
  {
   "cell_type": "code",
   "execution_count": 250,
   "metadata": {},
   "outputs": [
    {
     "data": {
      "text/plain": [
       "1360"
      ]
     },
     "execution_count": 250,
     "metadata": {},
     "output_type": "execute_result"
    }
   ],
   "source": [
    "len(Train_Y)"
   ]
  },
  {
   "cell_type": "code",
   "execution_count": 30,
   "metadata": {},
   "outputs": [],
   "source": [
    "n = 100\n",
    "highest = 0\n",
    "node = 0\n",
    "for i in range(1,100):\n",
    "    neigh = KNeighborsRegressor(n_neighbors = i, algorithm = \"auto\", weights = \"distance\") #n_neighbors=2\n",
    "    neigh.fit(Train_X, Train_Y) \n",
    "#     curr_score = neigh.score(Train_X[:n], Train_Y[:n])\n",
    "    curr_score = neigh.score(Test_X, Test_Y)\n",
    "    if(highest < curr_score):\n",
    "        highest = curr_score\n",
    "        node = i"
   ]
  },
  {
   "cell_type": "code",
   "execution_count": 31,
   "metadata": {},
   "outputs": [
    {
     "data": {
      "text/plain": [
       "(10, 0.7536954182183254)"
      ]
     },
     "execution_count": 31,
     "metadata": {},
     "output_type": "execute_result"
    }
   ],
   "source": [
    "node, highest"
   ]
  },
  {
   "cell_type": "code",
   "execution_count": 35,
   "metadata": {},
   "outputs": [
    {
     "data": {
      "text/plain": [
       "KNeighborsRegressor(algorithm='auto', leaf_size=30, metric='minkowski',\n",
       "                    metric_params=None, n_jobs=None, n_neighbors=10, p=2,\n",
       "                    weights='distance')"
      ]
     },
     "execution_count": 35,
     "metadata": {},
     "output_type": "execute_result"
    }
   ],
   "source": [
    "neigh = KNeighborsRegressor(n_neighbors = node, algorithm = \"auto\", weights = \"distance\") #n_neighbors=2\n",
    "neigh.fit(Train_X, Train_Y) "
   ]
  },
  {
   "cell_type": "code",
   "execution_count": 36,
   "metadata": {},
   "outputs": [
    {
     "data": {
      "text/plain": [
       "0.7536954182183254"
      ]
     },
     "execution_count": 36,
     "metadata": {},
     "output_type": "execute_result"
    }
   ],
   "source": [
    "neigh.score(Test_X, Test_Y)"
   ]
  },
  {
   "cell_type": "code",
   "execution_count": 293,
   "metadata": {},
   "outputs": [],
   "source": [
    "cross = cross_val_score(neigh, Train_X, Train_Y,cv=5)"
   ]
  },
  {
   "cell_type": "code",
   "execution_count": 295,
   "metadata": {},
   "outputs": [
    {
     "data": {
      "text/plain": [
       "array([0.74341052, 0.72996803, 0.69683924, 0.71016358, 0.6603024 ])"
      ]
     },
     "execution_count": 295,
     "metadata": {},
     "output_type": "execute_result"
    }
   ],
   "source": [
    "cross"
   ]
  },
  {
   "cell_type": "code",
   "execution_count": 294,
   "metadata": {},
   "outputs": [
    {
     "ename": "AttributeError",
     "evalue": "'numpy.ndarray' object has no attribute 'score'",
     "output_type": "error",
     "traceback": [
      "\u001b[0;31m---------------------------------------------------------------------------\u001b[0m",
      "\u001b[0;31mAttributeError\u001b[0m                            Traceback (most recent call last)",
      "\u001b[0;32m<ipython-input-294-b20645be8ffc>\u001b[0m in \u001b[0;36m<module>\u001b[0;34m\u001b[0m\n\u001b[0;32m----> 1\u001b[0;31m \u001b[0mcross\u001b[0m\u001b[0;34m.\u001b[0m\u001b[0mscore\u001b[0m\u001b[0;34m(\u001b[0m\u001b[0mTrain_X\u001b[0m\u001b[0;34m,\u001b[0m \u001b[0mTrain_Y\u001b[0m\u001b[0;34m)\u001b[0m\u001b[0;34m\u001b[0m\u001b[0;34m\u001b[0m\u001b[0m\n\u001b[0m",
      "\u001b[0;31mAttributeError\u001b[0m: 'numpy.ndarray' object has no attribute 'score'"
     ]
    }
   ],
   "source": [
    "cross.score(Train_X, Train_Y)"
   ]
  },
  {
   "cell_type": "code",
   "execution_count": 285,
   "metadata": {},
   "outputs": [
    {
     "data": {
      "text/plain": [
       "0.6133136762227651"
      ]
     },
     "execution_count": 285,
     "metadata": {},
     "output_type": "execute_result"
    }
   ],
   "source": [
    "neigh.score(Test_X, Test_Y)"
   ]
  },
  {
   "cell_type": "markdown",
   "metadata": {},
   "source": [
    "**SVR**"
   ]
  },
  {
   "cell_type": "code",
   "execution_count": 37,
   "metadata": {},
   "outputs": [],
   "source": [
    "# svr_poly = SVR(kernel='rbf', C=1e7, gamma='auto',  epsilon=.1, coef0=1)\n",
    "# svr_poly = SVR(kernel='poly', C=1e7, gamma='auto', degree=3, epsilon=.1, coef0=1)\n",
    "svr_poly = SVR(kernel='poly', C=1e7, gamma='auto', degree=3, epsilon=.1, coef0=1)\n",
    "\n",
    "\n"
   ]
  },
  {
   "cell_type": "code",
   "execution_count": 38,
   "metadata": {},
   "outputs": [
    {
     "data": {
      "text/plain": [
       "SVR(C=10000000.0, cache_size=200, coef0=1, degree=3, epsilon=0.1, gamma='auto',\n",
       "    kernel='poly', max_iter=-1, shrinking=True, tol=0.001, verbose=False)"
      ]
     },
     "execution_count": 38,
     "metadata": {},
     "output_type": "execute_result"
    }
   ],
   "source": [
    "svr_poly.fit(Train_X, Train_Y)"
   ]
  },
  {
   "cell_type": "code",
   "execution_count": 39,
   "metadata": {},
   "outputs": [
    {
     "data": {
      "text/plain": [
       "0.9537141258845151"
      ]
     },
     "execution_count": 39,
     "metadata": {},
     "output_type": "execute_result"
    }
   ],
   "source": [
    "svr_poly.score(Train_X,Train_Y)"
   ]
  },
  {
   "cell_type": "code",
   "execution_count": 40,
   "metadata": {},
   "outputs": [
    {
     "data": {
      "text/plain": [
       "0.9021621457721507"
      ]
     },
     "execution_count": 40,
     "metadata": {},
     "output_type": "execute_result"
    }
   ],
   "source": [
    "svr_poly.score(Test_X,Test_Y)"
   ]
  },
  {
   "cell_type": "markdown",
   "metadata": {},
   "source": [
    "**Ensemble Learning - Voting**"
   ]
  },
  {
   "cell_type": "code",
   "execution_count": 41,
   "metadata": {
    "scrolled": true
   },
   "outputs": [
    {
     "data": {
      "text/plain": [
       "VotingRegressor(estimators=[('Neural Network',\n",
       "                             MLPRegressor(activation='relu', alpha=0.0001,\n",
       "                                          batch_size='auto', beta_1=0.9,\n",
       "                                          beta_2=0.999, early_stopping=True,\n",
       "                                          epsilon=1e-08,\n",
       "                                          hidden_layer_sizes=(30, 20, 5),\n",
       "                                          learning_rate='constant',\n",
       "                                          learning_rate_init=0.1, max_iter=1000,\n",
       "                                          momentum=0.9, n_iter_no_change=10,\n",
       "                                          nesterovs_momentum=True, power_t=0.5,\n",
       "                                          random_state=1, shuffle=Tr...\n",
       "                                                   max_leaf_nodes=None,\n",
       "                                                   min_impurity_decrease=0.0,\n",
       "                                                   min_impurity_split=None,\n",
       "                                                   min_samples_leaf=1,\n",
       "                                                   min_samples_split=2,\n",
       "                                                   min_weight_fraction_leaf=0.0,\n",
       "                                                   presort=False,\n",
       "                                                   random_state=None,\n",
       "                                                   splitter='best')),\n",
       "                            ('SVR',\n",
       "                             SVR(C=10000000.0, cache_size=200, coef0=1,\n",
       "                                 degree=3, epsilon=0.1, gamma='auto',\n",
       "                                 kernel='poly', max_iter=-1, shrinking=True,\n",
       "                                 tol=0.001, verbose=False))],\n",
       "                n_jobs=None, weights=None)"
      ]
     },
     "execution_count": 41,
     "metadata": {},
     "output_type": "execute_result"
    }
   ],
   "source": [
    "ereg = sklearn.ensemble.VotingRegressor(estimators=[('Neural Network', NN), ('Elastic Net', Net), (\"Tree\", Tree), (\"SVR\", svr_poly)])\n",
    "ereg.fit(Train_X, Train_Y)"
   ]
  },
  {
   "cell_type": "code",
   "execution_count": 42,
   "metadata": {},
   "outputs": [
    {
     "data": {
      "text/plain": [
       "0.9264556878263173"
      ]
     },
     "execution_count": 42,
     "metadata": {},
     "output_type": "execute_result"
    }
   ],
   "source": [
    "ereg.score(Train_X, Train_Y) # Training score"
   ]
  },
  {
   "cell_type": "code",
   "execution_count": 43,
   "metadata": {},
   "outputs": [
    {
     "data": {
      "text/plain": [
       "0.9118873722438643"
      ]
     },
     "execution_count": 43,
     "metadata": {},
     "output_type": "execute_result"
    }
   ],
   "source": [
    "ereg.score(Test_X, Test_Y) # Testing Score"
   ]
  },
  {
   "cell_type": "markdown",
   "metadata": {},
   "source": [
    "**Ensemble Learning - Stacking**"
   ]
  },
  {
   "cell_type": "code",
   "execution_count": 48,
   "metadata": {},
   "outputs": [],
   "source": [
    "meta = MLPRegressor() # early stop"
   ]
  },
  {
   "cell_type": "code",
   "execution_count": 56,
   "metadata": {},
   "outputs": [
    {
     "data": {
      "text/plain": [
       "StackingRegressor(meta_regressor=MLPRegressor(activation='relu', alpha=0.0001,\n",
       "                                              batch_size='auto', beta_1=0.9,\n",
       "                                              beta_2=0.999,\n",
       "                                              early_stopping=False,\n",
       "                                              epsilon=1e-08,\n",
       "                                              hidden_layer_sizes=(100,),\n",
       "                                              learning_rate='constant',\n",
       "                                              learning_rate_init=0.001,\n",
       "                                              max_iter=200, momentum=0.9,\n",
       "                                              n_iter_no_change=10,\n",
       "                                              nesterovs_momentum=True,\n",
       "                                              power_t=0.5, random_state=None,\n",
       "                                              shuffle=True, solver=...\n",
       "                                  degree=3, epsilon=0.1, gamma='auto',\n",
       "                                  kernel='poly', max_iter=-1, shrinking=True,\n",
       "                                  tol=0.001, verbose=False),\n",
       "                              BayesianRidge(alpha_1=1e-06, alpha_2=1e-06,\n",
       "                                            compute_score=False, copy_X=True,\n",
       "                                            fit_intercept=True, lambda_1=1e-06,\n",
       "                                            lambda_2=1e-06, n_iter=300,\n",
       "                                            normalize=False, tol=0.001,\n",
       "                                            verbose=False)],\n",
       "                  store_train_meta_features=False,\n",
       "                  use_features_in_secondary=False, verbose=0)"
      ]
     },
     "execution_count": 56,
     "metadata": {},
     "output_type": "execute_result"
    }
   ],
   "source": [
    "stregr = StackingRegressor(regressors=[NN, Net, svr_poly, BR], \n",
    "                           meta_regressor=meta)\n",
    "\n",
    "# Training the stacking classifier\n",
    "\n",
    "stregr.fit(Train_X, Train_Y)\n"
   ]
  },
  {
   "cell_type": "code",
   "execution_count": 57,
   "metadata": {},
   "outputs": [
    {
     "data": {
      "text/plain": [
       "0.9604970228931329"
      ]
     },
     "execution_count": 57,
     "metadata": {},
     "output_type": "execute_result"
    }
   ],
   "source": [
    "stregr.score(Train_X, Train_Y)"
   ]
  },
  {
   "cell_type": "code",
   "execution_count": 58,
   "metadata": {},
   "outputs": [
    {
     "data": {
      "text/plain": [
       "0.9069478835265848"
      ]
     },
     "execution_count": 58,
     "metadata": {},
     "output_type": "execute_result"
    }
   ],
   "source": [
    "stregr.score(Test_X, Test_Y)"
   ]
  },
  {
   "cell_type": "code",
   "execution_count": null,
   "metadata": {},
   "outputs": [],
   "source": [
    "# Evaluate and visualize the fit\n",
    "print(\"Mean Squared Error: %.4f\"\n",
    "      % np.mean((stregr.predict(X) - y) ** 2))\n",
    "print('Variance Score: %.4f' % stregr.score(X, y))\n"
   ]
  },
  {
   "cell_type": "code",
   "execution_count": 59,
   "metadata": {},
   "outputs": [
    {
     "data": {
      "image/png": "[encoded data removed]",
      "text/plain": [
       "<Figure size 432x288 with 1 Axes>"
      ]
     },
     "metadata": {},
     "output_type": "display_data"
    }
   ],
   "source": [
    "with plt.style.context(('seaborn-whitegrid')):\n",
    "#     plt.scatter(X, y, c='lightgray')\n",
    "    plt.plot(Train_X[:20], stregr.predict(Train_X[:20]), c='darkgreen', lw=2)\n",
    "\n",
    "plt.show()"
   ]
  },
  {
   "cell_type": "code",
   "execution_count": 44,
   "metadata": {},
   "outputs": [
    {
     "data": {
      "text/plain": [
       "0.7956411862202194"
      ]
     },
     "execution_count": 44,
     "metadata": {},
     "output_type": "execute_result"
    }
   ],
   "source": [
    "xt = Test_X[:20]\n",
    "ereg.score(xt, Test_Y[:20])"
   ]
  },
  {
   "cell_type": "code",
   "execution_count": 61,
   "metadata": {
    "scrolled": false
   },
   "outputs": [
    {
     "data": {
      "image/png": "[encoded data removed]",
      "text/plain": [
       "<Figure size 1296x648 with 1 Axes>"
      ]
     },
     "metadata": {
      "needs_background": "light"
     },
     "output_type": "display_data"
    }
   ],
   "source": [
    "\n",
    "num = 50\n",
    "xt = Test_X[:num]\n",
    "\n",
    "\n",
    "plt.figure(figsize=(18,9))\n",
    "plt.plot(NN.predict(xt), 'gd', label='NN')\n",
    "plt.plot(Net.predict(xt), 'b^', label='Net')\n",
    "plt.plot(Tree.predict(xt), 'cs', label='Tree')\n",
    "plt.plot(svr_poly.predict(xt), 'ys', label='SVR')\n",
    "plt.plot(ereg.predict(xt), 'r*', label='VotingRegressor')\n",
    "plt.plot(stregr.predict(xt), 'm*', label='StackingRegressor')\n",
    "\n",
    "\n",
    "plt.plot(Test_Y[:num], 'black', label='Y_Real')\n",
    "\n",
    "\n",
    "plt.tick_params(axis='x', which='both', bottom=False, top=False,\n",
    "                labelbottom=False)\n",
    "plt.ylabel('predicted')\n",
    "plt.xlabel('training samples')\n",
    "plt.legend(loc=\"best\")\n",
    "plt.title('Comparison of individual predictions with averaged')\n",
    "plt.show()"
   ]
  },
  {
   "cell_type": "code",
   "execution_count": null,
   "metadata": {},
   "outputs": [],
   "source": [
    "clf.predict(df_test) # Testing Score"
   ]
  },
  {
   "cell_type": "code",
   "execution_count": null,
   "metadata": {
    "scrolled": true
   },
   "outputs": [],
   "source": [
    "clf.validation_scores_ # optimisation history"
   ]
  },
  {
   "cell_type": "code",
   "execution_count": null,
   "metadata": {},
   "outputs": [],
   "source": [
    "clf.loss_curve_ # loss function history"
   ]
  },
  {
   "cell_type": "code",
   "execution_count": null,
   "metadata": {},
   "outputs": [],
   "source": [
    "Train_X"
   ]
  },
  {
   "cell_type": "code",
   "execution_count": null,
   "metadata": {},
   "outputs": [],
   "source": [
    "n_samples, n_features = 10, 5\n",
    "rng = np.random.RandomState(0)\n",
    "y = rng.randn(n_samples)\n",
    "X = rng.randn(n_samples, n_features)\n",
    "clf = SVR(kernel='poly', C=100, gamma='auto', degree=2, epsilon=.1,\n",
    "               coef0=1)\n",
    "clf.fit(X, y) \n",
    "clf.score(X,y)"
   ]
  },
  {
   "cell_type": "code",
   "execution_count": null,
   "metadata": {},
   "outputs": [],
   "source": [
    "X"
   ]
  }
 ],
 "metadata": {
  "kernelspec": {
   "display_name": "Python 3",
   "language": "python",
   "name": "python3"
  },
  "language_info": {
   "codemirror_mode": {
    "name": "ipython",
    "version": 3
   },
   "file_extension": ".py",
   "mimetype": "text/x-python",
   "name": "python",
   "nbconvert_exporter": "python",
   "pygments_lexer": "ipython3",
   "version": "3.7.3"
  }
 },
 "nbformat": 4,
 "nbformat_minor": 2
}
